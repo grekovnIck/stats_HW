{
 "cells": [
  {
   "cell_type": "code",
   "execution_count": 2,
   "metadata": {
    "collapsed": true,
    "pycharm": {
     "name": "#%%\n"
    }
   },
   "outputs": [],
   "source": [
    "import numpy as np\n",
    "import pandas as pd"
   ]
  },
  {
   "cell_type": "code",
   "execution_count": 13,
   "outputs": [],
   "source": [
    "df1 = pd.read_csv(\"/Users/superponny/PycharmProjects/stats_KDZ/prepare-data/all_v2.csv\")\n",
    "df2 = pd.read_csv(\"prepared_data_v1.csv\")\n",
    "df3 = pd.read_csv(\"prepared_data_v2.csv\")\n",
    "df4 = pd.read_csv(\"prepared_data_v3.csv\")"
   ],
   "metadata": {
    "collapsed": false,
    "pycharm": {
     "name": "#%%\n"
    }
   }
  },
  {
   "cell_type": "code",
   "execution_count": 7,
   "outputs": [
    {
     "data": {
      "text/plain": "     price        date      time    geo_lat    geo_lon  region  building_type  \\\n0  6050000  2018-02-19  20:00:21  59.805808  30.376141    2661              1   \n1  8650000  2018-02-27  12:04:54  55.683807  37.297405      81              3   \n2  4000000  2018-02-28  15:44:00  56.295250  44.061637    2871              1   \n3  1850000  2018-03-01  11:24:52  44.996132  39.074783    2843              4   \n4  5450000  2018-03-01  17:42:43  55.918767  37.984642      81              3   \n5  3300000  2018-03-02  21:18:42  55.908253  37.726448      81              1   \n6  4704280  2018-03-04  12:35:25  55.621097  37.431002       3              2   \n7  3600000  2018-03-04  20:52:38  59.875526  30.395457    2661              1   \n8  3390000  2018-03-05  07:07:05  53.195031  50.106952    3106              2   \n9  2800000  2018-03-06  09:57:10  55.736972  38.846457      81              1   \n\n   level  levels  rooms  area  kitchen_area  object_type  \n0      8      10      3  82.6          10.8            1  \n1      5      24      2  69.1          12.0            1  \n2      5       9      3  66.0          10.0            1  \n3     12      16      2  38.0           5.0           11  \n4     13      14      2  60.0          10.0            1  \n5      4       5      1  32.0           6.0            1  \n6      1      25      1  31.7           6.0           11  \n7      2       5      1  31.1           6.0            1  \n8      4      24      2  64.0          13.0           11  \n9      9      10      2  55.0           8.0            1  ",
      "text/html": "<div>\n<style scoped>\n    .dataframe tbody tr th:only-of-type {\n        vertical-align: middle;\n    }\n\n    .dataframe tbody tr th {\n        vertical-align: top;\n    }\n\n    .dataframe thead th {\n        text-align: right;\n    }\n</style>\n<table border=\"1\" class=\"dataframe\">\n  <thead>\n    <tr style=\"text-align: right;\">\n      <th></th>\n      <th>price</th>\n      <th>date</th>\n      <th>time</th>\n      <th>geo_lat</th>\n      <th>geo_lon</th>\n      <th>region</th>\n      <th>building_type</th>\n      <th>level</th>\n      <th>levels</th>\n      <th>rooms</th>\n      <th>area</th>\n      <th>kitchen_area</th>\n      <th>object_type</th>\n    </tr>\n  </thead>\n  <tbody>\n    <tr>\n      <th>0</th>\n      <td>6050000</td>\n      <td>2018-02-19</td>\n      <td>20:00:21</td>\n      <td>59.805808</td>\n      <td>30.376141</td>\n      <td>2661</td>\n      <td>1</td>\n      <td>8</td>\n      <td>10</td>\n      <td>3</td>\n      <td>82.6</td>\n      <td>10.8</td>\n      <td>1</td>\n    </tr>\n    <tr>\n      <th>1</th>\n      <td>8650000</td>\n      <td>2018-02-27</td>\n      <td>12:04:54</td>\n      <td>55.683807</td>\n      <td>37.297405</td>\n      <td>81</td>\n      <td>3</td>\n      <td>5</td>\n      <td>24</td>\n      <td>2</td>\n      <td>69.1</td>\n      <td>12.0</td>\n      <td>1</td>\n    </tr>\n    <tr>\n      <th>2</th>\n      <td>4000000</td>\n      <td>2018-02-28</td>\n      <td>15:44:00</td>\n      <td>56.295250</td>\n      <td>44.061637</td>\n      <td>2871</td>\n      <td>1</td>\n      <td>5</td>\n      <td>9</td>\n      <td>3</td>\n      <td>66.0</td>\n      <td>10.0</td>\n      <td>1</td>\n    </tr>\n    <tr>\n      <th>3</th>\n      <td>1850000</td>\n      <td>2018-03-01</td>\n      <td>11:24:52</td>\n      <td>44.996132</td>\n      <td>39.074783</td>\n      <td>2843</td>\n      <td>4</td>\n      <td>12</td>\n      <td>16</td>\n      <td>2</td>\n      <td>38.0</td>\n      <td>5.0</td>\n      <td>11</td>\n    </tr>\n    <tr>\n      <th>4</th>\n      <td>5450000</td>\n      <td>2018-03-01</td>\n      <td>17:42:43</td>\n      <td>55.918767</td>\n      <td>37.984642</td>\n      <td>81</td>\n      <td>3</td>\n      <td>13</td>\n      <td>14</td>\n      <td>2</td>\n      <td>60.0</td>\n      <td>10.0</td>\n      <td>1</td>\n    </tr>\n    <tr>\n      <th>5</th>\n      <td>3300000</td>\n      <td>2018-03-02</td>\n      <td>21:18:42</td>\n      <td>55.908253</td>\n      <td>37.726448</td>\n      <td>81</td>\n      <td>1</td>\n      <td>4</td>\n      <td>5</td>\n      <td>1</td>\n      <td>32.0</td>\n      <td>6.0</td>\n      <td>1</td>\n    </tr>\n    <tr>\n      <th>6</th>\n      <td>4704280</td>\n      <td>2018-03-04</td>\n      <td>12:35:25</td>\n      <td>55.621097</td>\n      <td>37.431002</td>\n      <td>3</td>\n      <td>2</td>\n      <td>1</td>\n      <td>25</td>\n      <td>1</td>\n      <td>31.7</td>\n      <td>6.0</td>\n      <td>11</td>\n    </tr>\n    <tr>\n      <th>7</th>\n      <td>3600000</td>\n      <td>2018-03-04</td>\n      <td>20:52:38</td>\n      <td>59.875526</td>\n      <td>30.395457</td>\n      <td>2661</td>\n      <td>1</td>\n      <td>2</td>\n      <td>5</td>\n      <td>1</td>\n      <td>31.1</td>\n      <td>6.0</td>\n      <td>1</td>\n    </tr>\n    <tr>\n      <th>8</th>\n      <td>3390000</td>\n      <td>2018-03-05</td>\n      <td>07:07:05</td>\n      <td>53.195031</td>\n      <td>50.106952</td>\n      <td>3106</td>\n      <td>2</td>\n      <td>4</td>\n      <td>24</td>\n      <td>2</td>\n      <td>64.0</td>\n      <td>13.0</td>\n      <td>11</td>\n    </tr>\n    <tr>\n      <th>9</th>\n      <td>2800000</td>\n      <td>2018-03-06</td>\n      <td>09:57:10</td>\n      <td>55.736972</td>\n      <td>38.846457</td>\n      <td>81</td>\n      <td>1</td>\n      <td>9</td>\n      <td>10</td>\n      <td>2</td>\n      <td>55.0</td>\n      <td>8.0</td>\n      <td>1</td>\n    </tr>\n  </tbody>\n</table>\n</div>"
     },
     "execution_count": 7,
     "metadata": {},
     "output_type": "execute_result"
    }
   ],
   "source": [
    "df1.head(10)"
   ],
   "metadata": {
    "collapsed": false,
    "pycharm": {
     "name": "#%%\n"
    }
   }
  },
  {
   "cell_type": "code",
   "execution_count": 8,
   "outputs": [
    {
     "data": {
      "text/plain": "(5477006, 13)"
     },
     "execution_count": 8,
     "metadata": {},
     "output_type": "execute_result"
    }
   ],
   "source": [
    "df1.shape\n"
   ],
   "metadata": {
    "collapsed": false,
    "pycharm": {
     "name": "#%%\n"
    }
   }
  },
  {
   "cell_type": "code",
   "execution_count": 9,
   "outputs": [
    {
     "data": {
      "text/plain": "   Unnamed: 0     price  date      time    geo_lat    geo_lon  region  \\\n0         150   8806100  2018  07:43:24  55.872870  37.593110       3   \n1         384  13293000  2018  01:23:56  55.790968  37.475395       3   \n2        1536  10600000  2018  05:41:24  55.813353  37.632791       3   \n3        1938  14250000  2018  09:16:01  55.806940  37.646392       3   \n4        1942  11990000  2018  09:16:59  55.808834  37.649427       3   \n5        2039   7300000  2018  09:37:59  55.880666  37.686428       3   \n6        2108  15990000  2018  09:52:11  55.795249  37.525945       3   \n7        2109  19000000  2018  09:52:11  55.795249  37.525945       3   \n8        2112  15200000  2018  09:52:11  55.809934  37.727885       3   \n9        2298   8150000  2018  10:38:17  55.815681  37.491817       3   \n\n   building_type  level  levels  ...  new  old  Other  Panel  Monolithic  \\\n0              1      5      24  ...    0    1      0      1           0   \n1              2      3      14  ...    0    1      0      0           1   \n2              3      2       8  ...    1    0      0      0           0   \n3              2      6      12  ...    0    1      0      0           1   \n4              2      3       9  ...    0    1      0      0           1   \n5              3      1       9  ...    1    0      0      0           0   \n6              2      8      15  ...    0    1      0      0           1   \n7              2      3      15  ...    0    1      0      0           1   \n8              2     20      30  ...    1    0      0      0           1   \n9              3      3       3  ...    1    0      0      0           0   \n\n   Brick  Blocky  Wooden               distance_to_metro  \\\n0      0       0       0              (1287, 'Отрадное')   \n1      0       0       0      (1180, 'Октябрьское_Поле')   \n2      1       0       0           (627, 'Алексеевская')   \n3      0       0       0           (518, 'Алексеевская')   \n4      0       0       0           (661, 'Алексеевская')   \n5      1       0       0            (1729, 'Медведково')   \n6      0       0       0               (705, 'Аэропорт')   \n7      0       0       0               (705, 'Аэропорт')   \n8      0       0       0  (663, 'Бульвар_Рокоссовского')   \n9      1       0       0              (383, 'Стрешнево')   \n\n                   metro  \n0               Отрадное  \n1       Октябрьское_Поле  \n2           Алексеевская  \n3           Алексеевская  \n4           Алексеевская  \n5             Медведково  \n6               Аэропорт  \n7               Аэропорт  \n8  Бульвар_Рокоссовского  \n9              Стрешнево  \n\n[10 rows x 30 columns]",
      "text/html": "<div>\n<style scoped>\n    .dataframe tbody tr th:only-of-type {\n        vertical-align: middle;\n    }\n\n    .dataframe tbody tr th {\n        vertical-align: top;\n    }\n\n    .dataframe thead th {\n        text-align: right;\n    }\n</style>\n<table border=\"1\" class=\"dataframe\">\n  <thead>\n    <tr style=\"text-align: right;\">\n      <th></th>\n      <th>Unnamed: 0</th>\n      <th>price</th>\n      <th>date</th>\n      <th>time</th>\n      <th>geo_lat</th>\n      <th>geo_lon</th>\n      <th>region</th>\n      <th>building_type</th>\n      <th>level</th>\n      <th>levels</th>\n      <th>...</th>\n      <th>new</th>\n      <th>old</th>\n      <th>Other</th>\n      <th>Panel</th>\n      <th>Monolithic</th>\n      <th>Brick</th>\n      <th>Blocky</th>\n      <th>Wooden</th>\n      <th>distance_to_metro</th>\n      <th>metro</th>\n    </tr>\n  </thead>\n  <tbody>\n    <tr>\n      <th>0</th>\n      <td>150</td>\n      <td>8806100</td>\n      <td>2018</td>\n      <td>07:43:24</td>\n      <td>55.872870</td>\n      <td>37.593110</td>\n      <td>3</td>\n      <td>1</td>\n      <td>5</td>\n      <td>24</td>\n      <td>...</td>\n      <td>0</td>\n      <td>1</td>\n      <td>0</td>\n      <td>1</td>\n      <td>0</td>\n      <td>0</td>\n      <td>0</td>\n      <td>0</td>\n      <td>(1287, 'Отрадное')</td>\n      <td>Отрадное</td>\n    </tr>\n    <tr>\n      <th>1</th>\n      <td>384</td>\n      <td>13293000</td>\n      <td>2018</td>\n      <td>01:23:56</td>\n      <td>55.790968</td>\n      <td>37.475395</td>\n      <td>3</td>\n      <td>2</td>\n      <td>3</td>\n      <td>14</td>\n      <td>...</td>\n      <td>0</td>\n      <td>1</td>\n      <td>0</td>\n      <td>0</td>\n      <td>1</td>\n      <td>0</td>\n      <td>0</td>\n      <td>0</td>\n      <td>(1180, 'Октябрьское_Поле')</td>\n      <td>Октябрьское_Поле</td>\n    </tr>\n    <tr>\n      <th>2</th>\n      <td>1536</td>\n      <td>10600000</td>\n      <td>2018</td>\n      <td>05:41:24</td>\n      <td>55.813353</td>\n      <td>37.632791</td>\n      <td>3</td>\n      <td>3</td>\n      <td>2</td>\n      <td>8</td>\n      <td>...</td>\n      <td>1</td>\n      <td>0</td>\n      <td>0</td>\n      <td>0</td>\n      <td>0</td>\n      <td>1</td>\n      <td>0</td>\n      <td>0</td>\n      <td>(627, 'Алексеевская')</td>\n      <td>Алексеевская</td>\n    </tr>\n    <tr>\n      <th>3</th>\n      <td>1938</td>\n      <td>14250000</td>\n      <td>2018</td>\n      <td>09:16:01</td>\n      <td>55.806940</td>\n      <td>37.646392</td>\n      <td>3</td>\n      <td>2</td>\n      <td>6</td>\n      <td>12</td>\n      <td>...</td>\n      <td>0</td>\n      <td>1</td>\n      <td>0</td>\n      <td>0</td>\n      <td>1</td>\n      <td>0</td>\n      <td>0</td>\n      <td>0</td>\n      <td>(518, 'Алексеевская')</td>\n      <td>Алексеевская</td>\n    </tr>\n    <tr>\n      <th>4</th>\n      <td>1942</td>\n      <td>11990000</td>\n      <td>2018</td>\n      <td>09:16:59</td>\n      <td>55.808834</td>\n      <td>37.649427</td>\n      <td>3</td>\n      <td>2</td>\n      <td>3</td>\n      <td>9</td>\n      <td>...</td>\n      <td>0</td>\n      <td>1</td>\n      <td>0</td>\n      <td>0</td>\n      <td>1</td>\n      <td>0</td>\n      <td>0</td>\n      <td>0</td>\n      <td>(661, 'Алексеевская')</td>\n      <td>Алексеевская</td>\n    </tr>\n    <tr>\n      <th>5</th>\n      <td>2039</td>\n      <td>7300000</td>\n      <td>2018</td>\n      <td>09:37:59</td>\n      <td>55.880666</td>\n      <td>37.686428</td>\n      <td>3</td>\n      <td>3</td>\n      <td>1</td>\n      <td>9</td>\n      <td>...</td>\n      <td>1</td>\n      <td>0</td>\n      <td>0</td>\n      <td>0</td>\n      <td>0</td>\n      <td>1</td>\n      <td>0</td>\n      <td>0</td>\n      <td>(1729, 'Медведково')</td>\n      <td>Медведково</td>\n    </tr>\n    <tr>\n      <th>6</th>\n      <td>2108</td>\n      <td>15990000</td>\n      <td>2018</td>\n      <td>09:52:11</td>\n      <td>55.795249</td>\n      <td>37.525945</td>\n      <td>3</td>\n      <td>2</td>\n      <td>8</td>\n      <td>15</td>\n      <td>...</td>\n      <td>0</td>\n      <td>1</td>\n      <td>0</td>\n      <td>0</td>\n      <td>1</td>\n      <td>0</td>\n      <td>0</td>\n      <td>0</td>\n      <td>(705, 'Аэропорт')</td>\n      <td>Аэропорт</td>\n    </tr>\n    <tr>\n      <th>7</th>\n      <td>2109</td>\n      <td>19000000</td>\n      <td>2018</td>\n      <td>09:52:11</td>\n      <td>55.795249</td>\n      <td>37.525945</td>\n      <td>3</td>\n      <td>2</td>\n      <td>3</td>\n      <td>15</td>\n      <td>...</td>\n      <td>0</td>\n      <td>1</td>\n      <td>0</td>\n      <td>0</td>\n      <td>1</td>\n      <td>0</td>\n      <td>0</td>\n      <td>0</td>\n      <td>(705, 'Аэропорт')</td>\n      <td>Аэропорт</td>\n    </tr>\n    <tr>\n      <th>8</th>\n      <td>2112</td>\n      <td>15200000</td>\n      <td>2018</td>\n      <td>09:52:11</td>\n      <td>55.809934</td>\n      <td>37.727885</td>\n      <td>3</td>\n      <td>2</td>\n      <td>20</td>\n      <td>30</td>\n      <td>...</td>\n      <td>1</td>\n      <td>0</td>\n      <td>0</td>\n      <td>0</td>\n      <td>1</td>\n      <td>0</td>\n      <td>0</td>\n      <td>0</td>\n      <td>(663, 'Бульвар_Рокоссовского')</td>\n      <td>Бульвар_Рокоссовского</td>\n    </tr>\n    <tr>\n      <th>9</th>\n      <td>2298</td>\n      <td>8150000</td>\n      <td>2018</td>\n      <td>10:38:17</td>\n      <td>55.815681</td>\n      <td>37.491817</td>\n      <td>3</td>\n      <td>3</td>\n      <td>3</td>\n      <td>3</td>\n      <td>...</td>\n      <td>1</td>\n      <td>0</td>\n      <td>0</td>\n      <td>0</td>\n      <td>0</td>\n      <td>1</td>\n      <td>0</td>\n      <td>0</td>\n      <td>(383, 'Стрешнево')</td>\n      <td>Стрешнево</td>\n    </tr>\n  </tbody>\n</table>\n<p>10 rows × 30 columns</p>\n</div>"
     },
     "execution_count": 9,
     "metadata": {},
     "output_type": "execute_result"
    }
   ],
   "source": [
    "df2.head(10)\n"
   ],
   "metadata": {
    "collapsed": false,
    "pycharm": {
     "name": "#%%\n"
    }
   }
  },
  {
   "cell_type": "code",
   "execution_count": 10,
   "outputs": [
    {
     "data": {
      "text/plain": "(50337, 30)"
     },
     "execution_count": 10,
     "metadata": {},
     "output_type": "execute_result"
    }
   ],
   "source": [
    "df2.shape\n"
   ],
   "metadata": {
    "collapsed": false,
    "pycharm": {
     "name": "#%%\n"
    }
   }
  },
  {
   "cell_type": "code",
   "execution_count": 11,
   "outputs": [
    {
     "data": {
      "text/plain": "   Unnamed: 0.1  Unnamed: 0     price  date      time    geo_lat    geo_lon  \\\n0             0         150   8806100  2018  07:43:24  55.872870  37.593110   \n1             1         384  13293000  2018  01:23:56  55.790968  37.475395   \n2             2        1536  10600000  2018  05:41:24  55.813353  37.632791   \n3             3        1938  14250000  2018  09:16:01  55.806940  37.646392   \n4             4        1942  11990000  2018  09:16:59  55.808834  37.649427   \n5             5        2039   7300000  2018  09:37:59  55.880666  37.686428   \n6             6        2108  15990000  2018  09:52:11  55.795249  37.525945   \n7             7        2109  19000000  2018  09:52:11  55.795249  37.525945   \n8             8        2112  15200000  2018  09:52:11  55.809934  37.727885   \n9             9        2298   8150000  2018  10:38:17  55.815681  37.491817   \n\n   building_type  level  levels  ...  old  Other  Panel  Monolithic  Brick  \\\n0              1      5      24  ...    1      0      1           0      0   \n1              2      3      14  ...    1      0      0           1      0   \n2              3      2       8  ...    0      0      0           0      1   \n3              2      6      12  ...    1      0      0           1      0   \n4              2      3       9  ...    1      0      0           1      0   \n5              3      1       9  ...    0      0      0           0      1   \n6              2      8      15  ...    1      0      0           1      0   \n7              2      3      15  ...    1      0      0           1      0   \n8              2     20      30  ...    0      0      0           1      0   \n9              3      3       3  ...    0      0      0           0      1   \n\n   Blocky  Wooden               distance_to_metro                  metro  \\\n0       0       0              (1287, 'Отрадное')               Отрадное   \n1       0       0      (1180, 'Октябрьское_Поле')       Октябрьское_Поле   \n2       0       0           (627, 'Алексеевская')           Алексеевская   \n3       0       0           (518, 'Алексеевская')           Алексеевская   \n4       0       0           (661, 'Алексеевская')           Алексеевская   \n5       0       0            (1729, 'Медведково')             Медведково   \n6       0       0               (705, 'Аэропорт')               Аэропорт   \n7       0       0               (705, 'Аэропорт')               Аэропорт   \n8       0       0  (663, 'Бульвар_Рокоссовского')  Бульвар_Рокоссовского   \n9       0       0              (383, 'Стрешнево')              Стрешнево   \n\n   id_in_sad  \n0          0  \n1          0  \n2          0  \n3          0  \n4          0  \n5          0  \n6          0  \n7          0  \n8          0  \n9          0  \n\n[10 rows x 31 columns]",
      "text/html": "<div>\n<style scoped>\n    .dataframe tbody tr th:only-of-type {\n        vertical-align: middle;\n    }\n\n    .dataframe tbody tr th {\n        vertical-align: top;\n    }\n\n    .dataframe thead th {\n        text-align: right;\n    }\n</style>\n<table border=\"1\" class=\"dataframe\">\n  <thead>\n    <tr style=\"text-align: right;\">\n      <th></th>\n      <th>Unnamed: 0.1</th>\n      <th>Unnamed: 0</th>\n      <th>price</th>\n      <th>date</th>\n      <th>time</th>\n      <th>geo_lat</th>\n      <th>geo_lon</th>\n      <th>building_type</th>\n      <th>level</th>\n      <th>levels</th>\n      <th>...</th>\n      <th>old</th>\n      <th>Other</th>\n      <th>Panel</th>\n      <th>Monolithic</th>\n      <th>Brick</th>\n      <th>Blocky</th>\n      <th>Wooden</th>\n      <th>distance_to_metro</th>\n      <th>metro</th>\n      <th>id_in_sad</th>\n    </tr>\n  </thead>\n  <tbody>\n    <tr>\n      <th>0</th>\n      <td>0</td>\n      <td>150</td>\n      <td>8806100</td>\n      <td>2018</td>\n      <td>07:43:24</td>\n      <td>55.872870</td>\n      <td>37.593110</td>\n      <td>1</td>\n      <td>5</td>\n      <td>24</td>\n      <td>...</td>\n      <td>1</td>\n      <td>0</td>\n      <td>1</td>\n      <td>0</td>\n      <td>0</td>\n      <td>0</td>\n      <td>0</td>\n      <td>(1287, 'Отрадное')</td>\n      <td>Отрадное</td>\n      <td>0</td>\n    </tr>\n    <tr>\n      <th>1</th>\n      <td>1</td>\n      <td>384</td>\n      <td>13293000</td>\n      <td>2018</td>\n      <td>01:23:56</td>\n      <td>55.790968</td>\n      <td>37.475395</td>\n      <td>2</td>\n      <td>3</td>\n      <td>14</td>\n      <td>...</td>\n      <td>1</td>\n      <td>0</td>\n      <td>0</td>\n      <td>1</td>\n      <td>0</td>\n      <td>0</td>\n      <td>0</td>\n      <td>(1180, 'Октябрьское_Поле')</td>\n      <td>Октябрьское_Поле</td>\n      <td>0</td>\n    </tr>\n    <tr>\n      <th>2</th>\n      <td>2</td>\n      <td>1536</td>\n      <td>10600000</td>\n      <td>2018</td>\n      <td>05:41:24</td>\n      <td>55.813353</td>\n      <td>37.632791</td>\n      <td>3</td>\n      <td>2</td>\n      <td>8</td>\n      <td>...</td>\n      <td>0</td>\n      <td>0</td>\n      <td>0</td>\n      <td>0</td>\n      <td>1</td>\n      <td>0</td>\n      <td>0</td>\n      <td>(627, 'Алексеевская')</td>\n      <td>Алексеевская</td>\n      <td>0</td>\n    </tr>\n    <tr>\n      <th>3</th>\n      <td>3</td>\n      <td>1938</td>\n      <td>14250000</td>\n      <td>2018</td>\n      <td>09:16:01</td>\n      <td>55.806940</td>\n      <td>37.646392</td>\n      <td>2</td>\n      <td>6</td>\n      <td>12</td>\n      <td>...</td>\n      <td>1</td>\n      <td>0</td>\n      <td>0</td>\n      <td>1</td>\n      <td>0</td>\n      <td>0</td>\n      <td>0</td>\n      <td>(518, 'Алексеевская')</td>\n      <td>Алексеевская</td>\n      <td>0</td>\n    </tr>\n    <tr>\n      <th>4</th>\n      <td>4</td>\n      <td>1942</td>\n      <td>11990000</td>\n      <td>2018</td>\n      <td>09:16:59</td>\n      <td>55.808834</td>\n      <td>37.649427</td>\n      <td>2</td>\n      <td>3</td>\n      <td>9</td>\n      <td>...</td>\n      <td>1</td>\n      <td>0</td>\n      <td>0</td>\n      <td>1</td>\n      <td>0</td>\n      <td>0</td>\n      <td>0</td>\n      <td>(661, 'Алексеевская')</td>\n      <td>Алексеевская</td>\n      <td>0</td>\n    </tr>\n    <tr>\n      <th>5</th>\n      <td>5</td>\n      <td>2039</td>\n      <td>7300000</td>\n      <td>2018</td>\n      <td>09:37:59</td>\n      <td>55.880666</td>\n      <td>37.686428</td>\n      <td>3</td>\n      <td>1</td>\n      <td>9</td>\n      <td>...</td>\n      <td>0</td>\n      <td>0</td>\n      <td>0</td>\n      <td>0</td>\n      <td>1</td>\n      <td>0</td>\n      <td>0</td>\n      <td>(1729, 'Медведково')</td>\n      <td>Медведково</td>\n      <td>0</td>\n    </tr>\n    <tr>\n      <th>6</th>\n      <td>6</td>\n      <td>2108</td>\n      <td>15990000</td>\n      <td>2018</td>\n      <td>09:52:11</td>\n      <td>55.795249</td>\n      <td>37.525945</td>\n      <td>2</td>\n      <td>8</td>\n      <td>15</td>\n      <td>...</td>\n      <td>1</td>\n      <td>0</td>\n      <td>0</td>\n      <td>1</td>\n      <td>0</td>\n      <td>0</td>\n      <td>0</td>\n      <td>(705, 'Аэропорт')</td>\n      <td>Аэропорт</td>\n      <td>0</td>\n    </tr>\n    <tr>\n      <th>7</th>\n      <td>7</td>\n      <td>2109</td>\n      <td>19000000</td>\n      <td>2018</td>\n      <td>09:52:11</td>\n      <td>55.795249</td>\n      <td>37.525945</td>\n      <td>2</td>\n      <td>3</td>\n      <td>15</td>\n      <td>...</td>\n      <td>1</td>\n      <td>0</td>\n      <td>0</td>\n      <td>1</td>\n      <td>0</td>\n      <td>0</td>\n      <td>0</td>\n      <td>(705, 'Аэропорт')</td>\n      <td>Аэропорт</td>\n      <td>0</td>\n    </tr>\n    <tr>\n      <th>8</th>\n      <td>8</td>\n      <td>2112</td>\n      <td>15200000</td>\n      <td>2018</td>\n      <td>09:52:11</td>\n      <td>55.809934</td>\n      <td>37.727885</td>\n      <td>2</td>\n      <td>20</td>\n      <td>30</td>\n      <td>...</td>\n      <td>0</td>\n      <td>0</td>\n      <td>0</td>\n      <td>1</td>\n      <td>0</td>\n      <td>0</td>\n      <td>0</td>\n      <td>(663, 'Бульвар_Рокоссовского')</td>\n      <td>Бульвар_Рокоссовского</td>\n      <td>0</td>\n    </tr>\n    <tr>\n      <th>9</th>\n      <td>9</td>\n      <td>2298</td>\n      <td>8150000</td>\n      <td>2018</td>\n      <td>10:38:17</td>\n      <td>55.815681</td>\n      <td>37.491817</td>\n      <td>3</td>\n      <td>3</td>\n      <td>3</td>\n      <td>...</td>\n      <td>0</td>\n      <td>0</td>\n      <td>0</td>\n      <td>0</td>\n      <td>1</td>\n      <td>0</td>\n      <td>0</td>\n      <td>(383, 'Стрешнево')</td>\n      <td>Стрешнево</td>\n      <td>0</td>\n    </tr>\n  </tbody>\n</table>\n<p>10 rows × 31 columns</p>\n</div>"
     },
     "execution_count": 11,
     "metadata": {},
     "output_type": "execute_result"
    }
   ],
   "source": [
    "df3.head(10)\n"
   ],
   "metadata": {
    "collapsed": false,
    "pycharm": {
     "name": "#%%\n"
    }
   }
  },
  {
   "cell_type": "code",
   "execution_count": 16,
   "outputs": [
    {
     "data": {
      "text/plain": "(50337, 28)"
     },
     "execution_count": 16,
     "metadata": {},
     "output_type": "execute_result"
    }
   ],
   "source": [
    "df3.shape"
   ],
   "metadata": {
    "collapsed": false,
    "pycharm": {
     "name": "#%%\n"
    }
   }
  },
  {
   "cell_type": "code",
   "execution_count": 14,
   "outputs": [
    {
     "data": {
      "text/plain": "   Unnamed: 0.1  Unnamed: 0     price  date      time    geo_lat    geo_lon  \\\n0             0         150   8806100  2018  07:43:24  55.872870  37.593110   \n1             1         384  13293000  2018  01:23:56  55.790968  37.475395   \n2             2        1536  10600000  2018  05:41:24  55.813353  37.632791   \n3             3        1938  14250000  2018  09:16:01  55.806940  37.646392   \n4             4        1942  11990000  2018  09:16:59  55.808834  37.649427   \n5             5        2039   7300000  2018  09:37:59  55.880666  37.686428   \n6             6        2108  15990000  2018  09:52:11  55.795249  37.525945   \n7             7        2109  19000000  2018  09:52:11  55.795249  37.525945   \n8             8        2112  15200000  2018  09:52:11  55.809934  37.727885   \n9             9        2298   8150000  2018  10:38:17  55.815681  37.491817   \n\n   building_type  level  levels  ...  old  Other  Panel  Monolithic  Brick  \\\n0              1      5      24  ...    1      0      1           0      0   \n1              2      3      14  ...    1      0      0           1      0   \n2              3      2       8  ...    0      0      0           0      1   \n3              2      6      12  ...    1      0      0           1      0   \n4              2      3       9  ...    1      0      0           1      0   \n5              3      1       9  ...    0      0      0           0      1   \n6              2      8      15  ...    1      0      0           1      0   \n7              2      3      15  ...    1      0      0           1      0   \n8              2     20      30  ...    0      0      0           1      0   \n9              3      3       3  ...    0      0      0           0      1   \n\n   Blocky  Wooden               distance_to_metro                  metro  \\\n0       0       0              (1287, 'Отрадное')               Отрадное   \n1       0       0      (1180, 'Октябрьское_Поле')       Октябрьское_Поле   \n2       0       0           (627, 'Алексеевская')           Алексеевская   \n3       0       0           (518, 'Алексеевская')           Алексеевская   \n4       0       0           (661, 'Алексеевская')           Алексеевская   \n5       0       0            (1729, 'Медведково')             Медведково   \n6       0       0               (705, 'Аэропорт')               Аэропорт   \n7       0       0               (705, 'Аэропорт')               Аэропорт   \n8       0       0  (663, 'Бульвар_Рокоссовского')  Бульвар_Рокоссовского   \n9       0       0              (383, 'Стрешнево')              Стрешнево   \n\n   id_in_sad  \n0          0  \n1          0  \n2          0  \n3          0  \n4          0  \n5          0  \n6          0  \n7          0  \n8          0  \n9          0  \n\n[10 rows x 31 columns]",
      "text/html": "<div>\n<style scoped>\n    .dataframe tbody tr th:only-of-type {\n        vertical-align: middle;\n    }\n\n    .dataframe tbody tr th {\n        vertical-align: top;\n    }\n\n    .dataframe thead th {\n        text-align: right;\n    }\n</style>\n<table border=\"1\" class=\"dataframe\">\n  <thead>\n    <tr style=\"text-align: right;\">\n      <th></th>\n      <th>Unnamed: 0.1</th>\n      <th>Unnamed: 0</th>\n      <th>price</th>\n      <th>date</th>\n      <th>time</th>\n      <th>geo_lat</th>\n      <th>geo_lon</th>\n      <th>building_type</th>\n      <th>level</th>\n      <th>levels</th>\n      <th>...</th>\n      <th>old</th>\n      <th>Other</th>\n      <th>Panel</th>\n      <th>Monolithic</th>\n      <th>Brick</th>\n      <th>Blocky</th>\n      <th>Wooden</th>\n      <th>distance_to_metro</th>\n      <th>metro</th>\n      <th>id_in_sad</th>\n    </tr>\n  </thead>\n  <tbody>\n    <tr>\n      <th>0</th>\n      <td>0</td>\n      <td>150</td>\n      <td>8806100</td>\n      <td>2018</td>\n      <td>07:43:24</td>\n      <td>55.872870</td>\n      <td>37.593110</td>\n      <td>1</td>\n      <td>5</td>\n      <td>24</td>\n      <td>...</td>\n      <td>1</td>\n      <td>0</td>\n      <td>1</td>\n      <td>0</td>\n      <td>0</td>\n      <td>0</td>\n      <td>0</td>\n      <td>(1287, 'Отрадное')</td>\n      <td>Отрадное</td>\n      <td>0</td>\n    </tr>\n    <tr>\n      <th>1</th>\n      <td>1</td>\n      <td>384</td>\n      <td>13293000</td>\n      <td>2018</td>\n      <td>01:23:56</td>\n      <td>55.790968</td>\n      <td>37.475395</td>\n      <td>2</td>\n      <td>3</td>\n      <td>14</td>\n      <td>...</td>\n      <td>1</td>\n      <td>0</td>\n      <td>0</td>\n      <td>1</td>\n      <td>0</td>\n      <td>0</td>\n      <td>0</td>\n      <td>(1180, 'Октябрьское_Поле')</td>\n      <td>Октябрьское_Поле</td>\n      <td>0</td>\n    </tr>\n    <tr>\n      <th>2</th>\n      <td>2</td>\n      <td>1536</td>\n      <td>10600000</td>\n      <td>2018</td>\n      <td>05:41:24</td>\n      <td>55.813353</td>\n      <td>37.632791</td>\n      <td>3</td>\n      <td>2</td>\n      <td>8</td>\n      <td>...</td>\n      <td>0</td>\n      <td>0</td>\n      <td>0</td>\n      <td>0</td>\n      <td>1</td>\n      <td>0</td>\n      <td>0</td>\n      <td>(627, 'Алексеевская')</td>\n      <td>Алексеевская</td>\n      <td>0</td>\n    </tr>\n    <tr>\n      <th>3</th>\n      <td>3</td>\n      <td>1938</td>\n      <td>14250000</td>\n      <td>2018</td>\n      <td>09:16:01</td>\n      <td>55.806940</td>\n      <td>37.646392</td>\n      <td>2</td>\n      <td>6</td>\n      <td>12</td>\n      <td>...</td>\n      <td>1</td>\n      <td>0</td>\n      <td>0</td>\n      <td>1</td>\n      <td>0</td>\n      <td>0</td>\n      <td>0</td>\n      <td>(518, 'Алексеевская')</td>\n      <td>Алексеевская</td>\n      <td>0</td>\n    </tr>\n    <tr>\n      <th>4</th>\n      <td>4</td>\n      <td>1942</td>\n      <td>11990000</td>\n      <td>2018</td>\n      <td>09:16:59</td>\n      <td>55.808834</td>\n      <td>37.649427</td>\n      <td>2</td>\n      <td>3</td>\n      <td>9</td>\n      <td>...</td>\n      <td>1</td>\n      <td>0</td>\n      <td>0</td>\n      <td>1</td>\n      <td>0</td>\n      <td>0</td>\n      <td>0</td>\n      <td>(661, 'Алексеевская')</td>\n      <td>Алексеевская</td>\n      <td>0</td>\n    </tr>\n    <tr>\n      <th>5</th>\n      <td>5</td>\n      <td>2039</td>\n      <td>7300000</td>\n      <td>2018</td>\n      <td>09:37:59</td>\n      <td>55.880666</td>\n      <td>37.686428</td>\n      <td>3</td>\n      <td>1</td>\n      <td>9</td>\n      <td>...</td>\n      <td>0</td>\n      <td>0</td>\n      <td>0</td>\n      <td>0</td>\n      <td>1</td>\n      <td>0</td>\n      <td>0</td>\n      <td>(1729, 'Медведково')</td>\n      <td>Медведково</td>\n      <td>0</td>\n    </tr>\n    <tr>\n      <th>6</th>\n      <td>6</td>\n      <td>2108</td>\n      <td>15990000</td>\n      <td>2018</td>\n      <td>09:52:11</td>\n      <td>55.795249</td>\n      <td>37.525945</td>\n      <td>2</td>\n      <td>8</td>\n      <td>15</td>\n      <td>...</td>\n      <td>1</td>\n      <td>0</td>\n      <td>0</td>\n      <td>1</td>\n      <td>0</td>\n      <td>0</td>\n      <td>0</td>\n      <td>(705, 'Аэропорт')</td>\n      <td>Аэропорт</td>\n      <td>0</td>\n    </tr>\n    <tr>\n      <th>7</th>\n      <td>7</td>\n      <td>2109</td>\n      <td>19000000</td>\n      <td>2018</td>\n      <td>09:52:11</td>\n      <td>55.795249</td>\n      <td>37.525945</td>\n      <td>2</td>\n      <td>3</td>\n      <td>15</td>\n      <td>...</td>\n      <td>1</td>\n      <td>0</td>\n      <td>0</td>\n      <td>1</td>\n      <td>0</td>\n      <td>0</td>\n      <td>0</td>\n      <td>(705, 'Аэропорт')</td>\n      <td>Аэропорт</td>\n      <td>0</td>\n    </tr>\n    <tr>\n      <th>8</th>\n      <td>8</td>\n      <td>2112</td>\n      <td>15200000</td>\n      <td>2018</td>\n      <td>09:52:11</td>\n      <td>55.809934</td>\n      <td>37.727885</td>\n      <td>2</td>\n      <td>20</td>\n      <td>30</td>\n      <td>...</td>\n      <td>0</td>\n      <td>0</td>\n      <td>0</td>\n      <td>1</td>\n      <td>0</td>\n      <td>0</td>\n      <td>0</td>\n      <td>(663, 'Бульвар_Рокоссовского')</td>\n      <td>Бульвар_Рокоссовского</td>\n      <td>0</td>\n    </tr>\n    <tr>\n      <th>9</th>\n      <td>9</td>\n      <td>2298</td>\n      <td>8150000</td>\n      <td>2018</td>\n      <td>10:38:17</td>\n      <td>55.815681</td>\n      <td>37.491817</td>\n      <td>3</td>\n      <td>3</td>\n      <td>3</td>\n      <td>...</td>\n      <td>0</td>\n      <td>0</td>\n      <td>0</td>\n      <td>0</td>\n      <td>1</td>\n      <td>0</td>\n      <td>0</td>\n      <td>(383, 'Стрешнево')</td>\n      <td>Стрешнево</td>\n      <td>0</td>\n    </tr>\n  </tbody>\n</table>\n<p>10 rows × 31 columns</p>\n</div>"
     },
     "execution_count": 14,
     "metadata": {},
     "output_type": "execute_result"
    }
   ],
   "source": [
    "df4.head(10)\n"
   ],
   "metadata": {
    "collapsed": false,
    "pycharm": {
     "name": "#%%\n"
    }
   }
  },
  {
   "cell_type": "code",
   "execution_count": 15,
   "outputs": [
    {
     "data": {
      "text/plain": "(50337, 31)"
     },
     "execution_count": 15,
     "metadata": {},
     "output_type": "execute_result"
    }
   ],
   "source": [
    "df4.shape\n"
   ],
   "metadata": {
    "collapsed": false,
    "pycharm": {
     "name": "#%%\n"
    }
   }
  },
  {
   "cell_type": "code",
   "execution_count": null,
   "outputs": [],
   "source": [],
   "metadata": {
    "collapsed": false,
    "pycharm": {
     "name": "#%%\n"
    }
   }
  }
 ],
 "metadata": {
  "kernelspec": {
   "display_name": "Python 3",
   "language": "python",
   "name": "python3"
  },
  "language_info": {
   "codemirror_mode": {
    "name": "ipython",
    "version": 2
   },
   "file_extension": ".py",
   "mimetype": "text/x-python",
   "name": "python",
   "nbconvert_exporter": "python",
   "pygments_lexer": "ipython2",
   "version": "2.7.6"
  }
 },
 "nbformat": 4,
 "nbformat_minor": 0
}