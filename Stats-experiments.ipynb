{
 "cells": [
  {
   "cell_type": "code",
   "execution_count": null,
   "id": "f4f8dc83",
   "metadata": {
    "pycharm": {
     "name": "#%%\n"
    }
   },
   "outputs": [],
   "source": []
  },
  {
   "cell_type": "code",
   "execution_count": 1,
   "id": "cb1c769a",
   "metadata": {
    "pycharm": {
     "name": "#%%\n"
    }
   },
   "outputs": [],
   "source": [
    "import numpy as np\n",
    "import pandas as pd\n",
    "import matplotlib.pyplot as plt\n",
    "import seaborn as sns"
   ]
  },
  {
   "cell_type": "markdown",
   "id": "04e4bdd7",
   "metadata": {
    "pycharm": {
     "name": "#%% md\n"
    }
   },
   "source": [
    "# Получение данных\n",
    "<em>Данные можно скачать от здесь - https://www.kaggle.com/code/ekaterinadranitsyna/russian-housing-evaluation-model<em>"
   ]
  },
  {
   "cell_type": "code",
   "execution_count": 145,
   "id": "ad0ee6ee",
   "metadata": {
    "pycharm": {
     "name": "#%%\n"
    }
   },
   "outputs": [],
   "source": [
    "df = pd.read_csv(\"/Users/superponny/PycharmProjects/stats_KDZ/prepare-data/all_v2.csv\")"
   ]
  },
  {
   "cell_type": "code",
   "execution_count": 146,
   "id": "9a2432e7",
   "metadata": {
    "pycharm": {
     "name": "#%%\n"
    }
   },
   "outputs": [],
   "source": [
    "pd.set_option('display.max_rows', None)\n",
    "pd.set_option('display.max_columns', None)\n",
    "pd.set_option('display.max_colwidth', None)"
   ]
  },
  {
   "cell_type": "code",
   "execution_count": 147,
   "id": "2968ebad",
   "metadata": {
    "pycharm": {
     "name": "#%%\n"
    }
   },
   "outputs": [
    {
     "data": {
      "text/plain": [
       "Index(['price', 'date', 'time', 'geo_lat', 'geo_lon', 'region',\n",
       "       'building_type', 'level', 'levels', 'rooms', 'area', 'kitchen_area',\n",
       "       'object_type'],\n",
       "      dtype='object')"
      ]
     },
     "execution_count": 147,
     "metadata": {},
     "output_type": "execute_result"
    }
   ],
   "source": [
    "df.columns"
   ]
  },
  {
   "cell_type": "code",
   "execution_count": 148,
   "id": "e19584c2",
   "metadata": {
    "pycharm": {
     "name": "#%%\n"
    }
   },
   "outputs": [
    {
     "data": {
      "text/plain": [
       "(5477006, 13)"
      ]
     },
     "execution_count": 148,
     "metadata": {},
     "output_type": "execute_result"
    }
   ],
   "source": [
    "df.shape"
   ]
  },
  {
   "cell_type": "code",
   "execution_count": 149,
   "id": "039512b0",
   "metadata": {
    "pycharm": {
     "name": "#%%\n"
    }
   },
   "outputs": [
    {
     "data": {
      "text/html": [
       "<div>\n",
       "<style scoped>\n",
       "    .dataframe tbody tr th:only-of-type {\n",
       "        vertical-align: middle;\n",
       "    }\n",
       "\n",
       "    .dataframe tbody tr th {\n",
       "        vertical-align: top;\n",
       "    }\n",
       "\n",
       "    .dataframe thead th {\n",
       "        text-align: right;\n",
       "    }\n",
       "</style>\n",
       "<table border=\"1\" class=\"dataframe\">\n",
       "  <thead>\n",
       "    <tr style=\"text-align: right;\">\n",
       "      <th></th>\n",
       "      <th>price</th>\n",
       "      <th>date</th>\n",
       "      <th>time</th>\n",
       "      <th>geo_lat</th>\n",
       "      <th>geo_lon</th>\n",
       "      <th>region</th>\n",
       "      <th>building_type</th>\n",
       "      <th>level</th>\n",
       "      <th>levels</th>\n",
       "      <th>rooms</th>\n",
       "      <th>area</th>\n",
       "      <th>kitchen_area</th>\n",
       "      <th>object_type</th>\n",
       "    </tr>\n",
       "  </thead>\n",
       "  <tbody>\n",
       "    <tr>\n",
       "      <th>215136</th>\n",
       "      <td>1850000</td>\n",
       "      <td>2018-10-07</td>\n",
       "      <td>19:43:34</td>\n",
       "      <td>45.039648</td>\n",
       "      <td>39.121750</td>\n",
       "      <td>2843</td>\n",
       "      <td>3</td>\n",
       "      <td>5</td>\n",
       "      <td>6</td>\n",
       "      <td>1</td>\n",
       "      <td>39.1</td>\n",
       "      <td>10.8</td>\n",
       "      <td>1</td>\n",
       "    </tr>\n",
       "    <tr>\n",
       "      <th>4207751</th>\n",
       "      <td>11650000</td>\n",
       "      <td>2020-08-03</td>\n",
       "      <td>02:21:46</td>\n",
       "      <td>60.017205</td>\n",
       "      <td>30.400646</td>\n",
       "      <td>2661</td>\n",
       "      <td>3</td>\n",
       "      <td>12</td>\n",
       "      <td>17</td>\n",
       "      <td>3</td>\n",
       "      <td>76.2</td>\n",
       "      <td>11.0</td>\n",
       "      <td>1</td>\n",
       "    </tr>\n",
       "    <tr>\n",
       "      <th>3599845</th>\n",
       "      <td>910000</td>\n",
       "      <td>2020-04-14</td>\n",
       "      <td>12:43:32</td>\n",
       "      <td>42.959926</td>\n",
       "      <td>47.528115</td>\n",
       "      <td>4007</td>\n",
       "      <td>2</td>\n",
       "      <td>3</td>\n",
       "      <td>11</td>\n",
       "      <td>1</td>\n",
       "      <td>38.3</td>\n",
       "      <td>14.6</td>\n",
       "      <td>11</td>\n",
       "    </tr>\n",
       "    <tr>\n",
       "      <th>1762596</th>\n",
       "      <td>3350000</td>\n",
       "      <td>2019-05-08</td>\n",
       "      <td>19:06:17</td>\n",
       "      <td>45.026224</td>\n",
       "      <td>39.106239</td>\n",
       "      <td>2843</td>\n",
       "      <td>4</td>\n",
       "      <td>3</td>\n",
       "      <td>16</td>\n",
       "      <td>2</td>\n",
       "      <td>58.0</td>\n",
       "      <td>12.0</td>\n",
       "      <td>1</td>\n",
       "    </tr>\n",
       "    <tr>\n",
       "      <th>2589419</th>\n",
       "      <td>2650000</td>\n",
       "      <td>2019-09-17</td>\n",
       "      <td>20:23:17</td>\n",
       "      <td>44.729694</td>\n",
       "      <td>37.748055</td>\n",
       "      <td>2843</td>\n",
       "      <td>2</td>\n",
       "      <td>12</td>\n",
       "      <td>15</td>\n",
       "      <td>1</td>\n",
       "      <td>36.0</td>\n",
       "      <td>12.0</td>\n",
       "      <td>1</td>\n",
       "    </tr>\n",
       "    <tr>\n",
       "      <th>206786</th>\n",
       "      <td>10897310</td>\n",
       "      <td>2018-10-05</td>\n",
       "      <td>14:57:05</td>\n",
       "      <td>55.568751</td>\n",
       "      <td>37.559604</td>\n",
       "      <td>3</td>\n",
       "      <td>2</td>\n",
       "      <td>26</td>\n",
       "      <td>33</td>\n",
       "      <td>3</td>\n",
       "      <td>93.7</td>\n",
       "      <td>20.2</td>\n",
       "      <td>11</td>\n",
       "    </tr>\n",
       "    <tr>\n",
       "      <th>2206053</th>\n",
       "      <td>12640320</td>\n",
       "      <td>2019-07-15</td>\n",
       "      <td>02:02:57</td>\n",
       "      <td>55.754047</td>\n",
       "      <td>37.620405</td>\n",
       "      <td>3</td>\n",
       "      <td>2</td>\n",
       "      <td>17</td>\n",
       "      <td>19</td>\n",
       "      <td>1</td>\n",
       "      <td>40.3</td>\n",
       "      <td>12.0</td>\n",
       "      <td>11</td>\n",
       "    </tr>\n",
       "    <tr>\n",
       "      <th>1425506</th>\n",
       "      <td>2500000</td>\n",
       "      <td>2019-03-22</td>\n",
       "      <td>15:10:16</td>\n",
       "      <td>44.548746</td>\n",
       "      <td>38.078865</td>\n",
       "      <td>2843</td>\n",
       "      <td>3</td>\n",
       "      <td>8</td>\n",
       "      <td>10</td>\n",
       "      <td>1</td>\n",
       "      <td>36.0</td>\n",
       "      <td>6.0</td>\n",
       "      <td>1</td>\n",
       "    </tr>\n",
       "    <tr>\n",
       "      <th>3142307</th>\n",
       "      <td>5200000</td>\n",
       "      <td>2020-01-16</td>\n",
       "      <td>18:12:25</td>\n",
       "      <td>55.792414</td>\n",
       "      <td>37.981068</td>\n",
       "      <td>81</td>\n",
       "      <td>1</td>\n",
       "      <td>2</td>\n",
       "      <td>17</td>\n",
       "      <td>2</td>\n",
       "      <td>52.0</td>\n",
       "      <td>9.0</td>\n",
       "      <td>1</td>\n",
       "    </tr>\n",
       "    <tr>\n",
       "      <th>1666977</th>\n",
       "      <td>5080000</td>\n",
       "      <td>2019-04-23</td>\n",
       "      <td>14:16:40</td>\n",
       "      <td>60.035400</td>\n",
       "      <td>30.446373</td>\n",
       "      <td>2661</td>\n",
       "      <td>1</td>\n",
       "      <td>16</td>\n",
       "      <td>18</td>\n",
       "      <td>2</td>\n",
       "      <td>55.0</td>\n",
       "      <td>10.0</td>\n",
       "      <td>1</td>\n",
       "    </tr>\n",
       "  </tbody>\n",
       "</table>\n",
       "</div>"
      ],
      "text/plain": [
       "            price        date      time    geo_lat    geo_lon  region  \\\n",
       "215136    1850000  2018-10-07  19:43:34  45.039648  39.121750    2843   \n",
       "4207751  11650000  2020-08-03  02:21:46  60.017205  30.400646    2661   \n",
       "3599845    910000  2020-04-14  12:43:32  42.959926  47.528115    4007   \n",
       "1762596   3350000  2019-05-08  19:06:17  45.026224  39.106239    2843   \n",
       "2589419   2650000  2019-09-17  20:23:17  44.729694  37.748055    2843   \n",
       "206786   10897310  2018-10-05  14:57:05  55.568751  37.559604       3   \n",
       "2206053  12640320  2019-07-15  02:02:57  55.754047  37.620405       3   \n",
       "1425506   2500000  2019-03-22  15:10:16  44.548746  38.078865    2843   \n",
       "3142307   5200000  2020-01-16  18:12:25  55.792414  37.981068      81   \n",
       "1666977   5080000  2019-04-23  14:16:40  60.035400  30.446373    2661   \n",
       "\n",
       "         building_type  level  levels  rooms  area  kitchen_area  object_type  \n",
       "215136               3      5       6      1  39.1          10.8            1  \n",
       "4207751              3     12      17      3  76.2          11.0            1  \n",
       "3599845              2      3      11      1  38.3          14.6           11  \n",
       "1762596              4      3      16      2  58.0          12.0            1  \n",
       "2589419              2     12      15      1  36.0          12.0            1  \n",
       "206786               2     26      33      3  93.7          20.2           11  \n",
       "2206053              2     17      19      1  40.3          12.0           11  \n",
       "1425506              3      8      10      1  36.0           6.0            1  \n",
       "3142307              1      2      17      2  52.0           9.0            1  \n",
       "1666977              1     16      18      2  55.0          10.0            1  "
      ]
     },
     "execution_count": 149,
     "metadata": {},
     "output_type": "execute_result"
    }
   ],
   "source": [
    "df.sample(10)"
   ]
  },
  {
   "cell_type": "code",
   "execution_count": 150,
   "id": "5195e6e8",
   "metadata": {
    "pycharm": {
     "name": "#%%\n"
    }
   },
   "outputs": [
    {
     "data": {
      "text/plain": [
       "(5477006, 13)"
      ]
     },
     "execution_count": 150,
     "metadata": {},
     "output_type": "execute_result"
    }
   ],
   "source": [
    "df.shape"
   ]
  },
  {
   "cell_type": "code",
   "execution_count": 151,
   "id": "47bc1e00",
   "metadata": {
    "pycharm": {
     "name": "#%%\n"
    }
   },
   "outputs": [
    {
     "data": {
      "text/plain": [
       " 1     2067013\n",
       " 2     1827514\n",
       " 3     1097354\n",
       "-1      306209\n",
       " 4      152160\n",
       " 5       22576\n",
       " 6        2357\n",
       " 7         788\n",
       " 8         353\n",
       "-2         343\n",
       " 9         338\n",
       " 10          1\n",
       "Name: rooms, dtype: int64"
      ]
     },
     "execution_count": 151,
     "metadata": {},
     "output_type": "execute_result"
    }
   ],
   "source": [
    "a = pd.Series(df.rooms.value_counts())\n",
    "a"
   ]
  },
  {
   "cell_type": "code",
   "execution_count": 152,
   "id": "dfd2477a",
   "metadata": {
    "pycharm": {
     "name": "#%%\n"
    }
   },
   "outputs": [
    {
     "data": {
      "text/plain": [
       "<AxesSubplot:ylabel='rooms'>"
      ]
     },
     "execution_count": 152,
     "metadata": {},
     "output_type": "execute_result"
    },
    {
     "data": {
      "image/png": "[encoded data removed]",
      "text/plain": [
       "<Figure size 360x144 with 1 Axes>"
      ]
     },
     "metadata": {},
     "output_type": "display_data"
    }
   ],
   "source": [
    "a.plot(kind = 'pie')"
   ]
  },
  {
   "cell_type": "code",
   "execution_count": 153,
   "id": "2f532002",
   "metadata": {
    "pycharm": {
     "name": "#%%\n"
    }
   },
   "outputs": [
    {
     "data": {
      "text/plain": [
       "Int64Index([ 9654,  2843,    81,  2661,     3,  6171,  2922,  3230,  5282,\n",
       "             3991,  2604,  2871,  2722,  3870,  3106,  6817,  2072,  2900,\n",
       "             3019,  3446,  1010,  5952,  5520,  7896,  4007,  4982,  2860,\n",
       "             4417,  5368, 10160,  5241,  2359,  8090,  9648, 11171,  2880,\n",
       "            13919,  9579,  5789,  2528,  2328,  7793,  4695, 11991,  4189,\n",
       "             3153,  2484,  5993, 11416,  2594,  6937,  6543,  1491,  5794,\n",
       "             5143,  4374,  8509,  4249, 10201,   821,  2885,  4240,  7873,\n",
       "             4086,  8894,  7929,  2806,  7121, 10582,  8640,  6309,  5703,\n",
       "             2814,  5736,  5178, 13913, 14368, 14880, 13098, 16705,    69,\n",
       "             4963,  1901, 61888],\n",
       "           dtype='int64')"
      ]
     },
     "execution_count": 153,
     "metadata": {},
     "output_type": "execute_result"
    }
   ],
   "source": [
    "df.region.value_counts().index"
   ]
  },
  {
   "cell_type": "code",
   "execution_count": 155,
   "id": "c4130fa5",
   "metadata": {
    "pycharm": {
     "name": "#%%\n"
    }
   },
   "outputs": [
    {
     "data": {
      "text/plain": [
       "<AxesSubplot:>"
      ]
     },
     "execution_count": 155,
     "metadata": {},
     "output_type": "execute_result"
    },
    {
     "data": {
      "image/png": "[encoded data removed]",
      "text/plain": [
       "<Figure size 1440x576 with 1 Axes>"
      ]
     },
     "metadata": {},
     "output_type": "display_data"
    }
   ],
   "source": [
    "info = df.region.value_counts()\n",
    "plt.xticks(rotation=75)\n",
    "sns.set(rc = {'figure.figsize':(20,8)})\n",
    "sns.barplot(x=df.region.value_counts().index, y=info.values)"
   ]
  },
  {
   "cell_type": "markdown",
   "id": "a178daf8",
   "metadata": {
    "pycharm": {
     "name": "#%% md\n"
    }
   },
   "source": [
    "<h3>Создание нового набора данных</h3>\n",
    "    \n",
    "\n",
    "Данные буду отбирать по ***территориальной принадлжености*** (Москва) и ***по количеству квартир*** (2)"
   ]
  },
  {
   "cell_type": "code",
   "execution_count": 156,
   "id": "a0a55af4",
   "metadata": {
    "pycharm": {
     "name": "#%%\n"
    }
   },
   "outputs": [],
   "source": [
    "df = df[(df[\"geo_lon\"] <= 37.84241) & (df[\"geo_lon\"] >= 37.39334)\n",
    "         & (df[\"geo_lat\"] >= 55.76421) & (df[\"geo_lat\"] <= 55.8861)\n",
    "         & (df[\"rooms\"] == 2)]"
   ]
  },
  {
   "cell_type": "code",
   "execution_count": 157,
   "id": "e09f7093",
   "metadata": {
    "pycharm": {
     "name": "#%%\n"
    }
   },
   "outputs": [
    {
     "data": {
      "text/html": [
       "<div>\n",
       "<style scoped>\n",
       "    .dataframe tbody tr th:only-of-type {\n",
       "        vertical-align: middle;\n",
       "    }\n",
       "\n",
       "    .dataframe tbody tr th {\n",
       "        vertical-align: top;\n",
       "    }\n",
       "\n",
       "    .dataframe thead th {\n",
       "        text-align: right;\n",
       "    }\n",
       "</style>\n",
       "<table border=\"1\" class=\"dataframe\">\n",
       "  <thead>\n",
       "    <tr style=\"text-align: right;\">\n",
       "      <th></th>\n",
       "      <th>price</th>\n",
       "      <th>date</th>\n",
       "      <th>time</th>\n",
       "      <th>geo_lat</th>\n",
       "      <th>geo_lon</th>\n",
       "      <th>region</th>\n",
       "      <th>building_type</th>\n",
       "      <th>level</th>\n",
       "      <th>levels</th>\n",
       "      <th>rooms</th>\n",
       "      <th>area</th>\n",
       "      <th>kitchen_area</th>\n",
       "      <th>object_type</th>\n",
       "    </tr>\n",
       "  </thead>\n",
       "  <tbody>\n",
       "    <tr>\n",
       "      <th>5030895</th>\n",
       "      <td>22000000</td>\n",
       "      <td>2021-02-14</td>\n",
       "      <td>23:04:42</td>\n",
       "      <td>55.774598</td>\n",
       "      <td>37.545950</td>\n",
       "      <td>3</td>\n",
       "      <td>2</td>\n",
       "      <td>18</td>\n",
       "      <td>24</td>\n",
       "      <td>2</td>\n",
       "      <td>78.00</td>\n",
       "      <td>19.00</td>\n",
       "      <td>1</td>\n",
       "    </tr>\n",
       "    <tr>\n",
       "      <th>5379063</th>\n",
       "      <td>9200000</td>\n",
       "      <td>2021-04-22</td>\n",
       "      <td>15:14:01</td>\n",
       "      <td>55.813027</td>\n",
       "      <td>37.563266</td>\n",
       "      <td>3</td>\n",
       "      <td>4</td>\n",
       "      <td>2</td>\n",
       "      <td>9</td>\n",
       "      <td>2</td>\n",
       "      <td>37.00</td>\n",
       "      <td>6.00</td>\n",
       "      <td>1</td>\n",
       "    </tr>\n",
       "    <tr>\n",
       "      <th>4843866</th>\n",
       "      <td>9600000</td>\n",
       "      <td>2020-12-11</td>\n",
       "      <td>17:34:28</td>\n",
       "      <td>55.834901</td>\n",
       "      <td>37.488305</td>\n",
       "      <td>3</td>\n",
       "      <td>1</td>\n",
       "      <td>1</td>\n",
       "      <td>5</td>\n",
       "      <td>2</td>\n",
       "      <td>45.10</td>\n",
       "      <td>5.00</td>\n",
       "      <td>1</td>\n",
       "    </tr>\n",
       "    <tr>\n",
       "      <th>4729258</th>\n",
       "      <td>9800000</td>\n",
       "      <td>2020-11-18</td>\n",
       "      <td>19:59:51</td>\n",
       "      <td>55.876915</td>\n",
       "      <td>37.687940</td>\n",
       "      <td>3</td>\n",
       "      <td>1</td>\n",
       "      <td>7</td>\n",
       "      <td>12</td>\n",
       "      <td>2</td>\n",
       "      <td>46.00</td>\n",
       "      <td>7.00</td>\n",
       "      <td>1</td>\n",
       "    </tr>\n",
       "    <tr>\n",
       "      <th>4856237</th>\n",
       "      <td>6926225</td>\n",
       "      <td>2020-12-15</td>\n",
       "      <td>01:27:08</td>\n",
       "      <td>55.849792</td>\n",
       "      <td>37.689860</td>\n",
       "      <td>3</td>\n",
       "      <td>2</td>\n",
       "      <td>2</td>\n",
       "      <td>14</td>\n",
       "      <td>2</td>\n",
       "      <td>37.90</td>\n",
       "      <td>3.00</td>\n",
       "      <td>11</td>\n",
       "    </tr>\n",
       "    <tr>\n",
       "      <th>2510730</th>\n",
       "      <td>15500000</td>\n",
       "      <td>2019-09-04</td>\n",
       "      <td>16:33:58</td>\n",
       "      <td>55.773536</td>\n",
       "      <td>37.599860</td>\n",
       "      <td>3</td>\n",
       "      <td>3</td>\n",
       "      <td>1</td>\n",
       "      <td>8</td>\n",
       "      <td>2</td>\n",
       "      <td>56.00</td>\n",
       "      <td>9.00</td>\n",
       "      <td>1</td>\n",
       "    </tr>\n",
       "    <tr>\n",
       "      <th>1226717</th>\n",
       "      <td>8120702</td>\n",
       "      <td>2019-02-25</td>\n",
       "      <td>16:57:36</td>\n",
       "      <td>55.782015</td>\n",
       "      <td>37.509717</td>\n",
       "      <td>3</td>\n",
       "      <td>2</td>\n",
       "      <td>2</td>\n",
       "      <td>20</td>\n",
       "      <td>2</td>\n",
       "      <td>55.90</td>\n",
       "      <td>18.60</td>\n",
       "      <td>11</td>\n",
       "    </tr>\n",
       "    <tr>\n",
       "      <th>755688</th>\n",
       "      <td>10093967</td>\n",
       "      <td>2018-12-18</td>\n",
       "      <td>14:08:01</td>\n",
       "      <td>55.799006</td>\n",
       "      <td>37.768175</td>\n",
       "      <td>3</td>\n",
       "      <td>2</td>\n",
       "      <td>2</td>\n",
       "      <td>8</td>\n",
       "      <td>2</td>\n",
       "      <td>62.27</td>\n",
       "      <td>23.26</td>\n",
       "      <td>11</td>\n",
       "    </tr>\n",
       "    <tr>\n",
       "      <th>4385041</th>\n",
       "      <td>7689045</td>\n",
       "      <td>2020-09-14</td>\n",
       "      <td>13:12:38</td>\n",
       "      <td>55.770856</td>\n",
       "      <td>37.517985</td>\n",
       "      <td>3</td>\n",
       "      <td>2</td>\n",
       "      <td>13</td>\n",
       "      <td>22</td>\n",
       "      <td>2</td>\n",
       "      <td>39.30</td>\n",
       "      <td>17.80</td>\n",
       "      <td>11</td>\n",
       "    </tr>\n",
       "    <tr>\n",
       "      <th>2303032</th>\n",
       "      <td>12746675</td>\n",
       "      <td>2019-07-30</td>\n",
       "      <td>16:45:17</td>\n",
       "      <td>55.803000</td>\n",
       "      <td>37.591550</td>\n",
       "      <td>3</td>\n",
       "      <td>2</td>\n",
       "      <td>35</td>\n",
       "      <td>38</td>\n",
       "      <td>2</td>\n",
       "      <td>71.50</td>\n",
       "      <td>17.40</td>\n",
       "      <td>11</td>\n",
       "    </tr>\n",
       "  </tbody>\n",
       "</table>\n",
       "</div>"
      ],
      "text/plain": [
       "            price        date      time    geo_lat    geo_lon  region  \\\n",
       "5030895  22000000  2021-02-14  23:04:42  55.774598  37.545950       3   \n",
       "5379063   9200000  2021-04-22  15:14:01  55.813027  37.563266       3   \n",
       "4843866   9600000  2020-12-11  17:34:28  55.834901  37.488305       3   \n",
       "4729258   9800000  2020-11-18  19:59:51  55.876915  37.687940       3   \n",
       "4856237   6926225  2020-12-15  01:27:08  55.849792  37.689860       3   \n",
       "2510730  15500000  2019-09-04  16:33:58  55.773536  37.599860       3   \n",
       "1226717   8120702  2019-02-25  16:57:36  55.782015  37.509717       3   \n",
       "755688   10093967  2018-12-18  14:08:01  55.799006  37.768175       3   \n",
       "4385041   7689045  2020-09-14  13:12:38  55.770856  37.517985       3   \n",
       "2303032  12746675  2019-07-30  16:45:17  55.803000  37.591550       3   \n",
       "\n",
       "         building_type  level  levels  rooms   area  kitchen_area  object_type  \n",
       "5030895              2     18      24      2  78.00         19.00            1  \n",
       "5379063              4      2       9      2  37.00          6.00            1  \n",
       "4843866              1      1       5      2  45.10          5.00            1  \n",
       "4729258              1      7      12      2  46.00          7.00            1  \n",
       "4856237              2      2      14      2  37.90          3.00           11  \n",
       "2510730              3      1       8      2  56.00          9.00            1  \n",
       "1226717              2      2      20      2  55.90         18.60           11  \n",
       "755688               2      2       8      2  62.27         23.26           11  \n",
       "4385041              2     13      22      2  39.30         17.80           11  \n",
       "2303032              2     35      38      2  71.50         17.40           11  "
      ]
     },
     "execution_count": 157,
     "metadata": {},
     "output_type": "execute_result"
    }
   ],
   "source": [
    "df.sample(10)"
   ]
  },
  {
   "cell_type": "code",
   "execution_count": 160,
   "id": "8233017c",
   "metadata": {
    "pycharm": {
     "name": "#%%\n"
    }
   },
   "outputs": [
    {
     "data": {
      "text/plain": [
       "<AxesSubplot:>"
      ]
     },
     "execution_count": 160,
     "metadata": {},
     "output_type": "execute_result"
    },
    {
     "data": {
      "image/png": "[encoded data removed]",
      "text/plain": [
       "<Figure size 360x144 with 1 Axes>"
      ]
     },
     "metadata": {},
     "output_type": "display_data"
    }
   ],
   "source": [
    "info = df.region.value_counts()\n",
    "plt.xticks(rotation=75)\n",
    "sns.set(rc = {'figure.figsize':(5,2)})\n",
    "sns.barplot(x=df.region.value_counts().index, y=info.values)"
   ]
  },
  {
   "cell_type": "code",
   "execution_count": 161,
   "id": "2624705b",
   "metadata": {
    "pycharm": {
     "name": "#%%\n"
    }
   },
   "outputs": [
    {
     "data": {
      "text/plain": [
       "<AxesSubplot:>"
      ]
     },
     "execution_count": 161,
     "metadata": {},
     "output_type": "execute_result"
    },
    {
     "data": {
      "image/png": "[encoded data removed]",
      "text/plain": [
       "<Figure size 504x1440 with 1 Axes>"
      ]
     },
     "metadata": {},
     "output_type": "display_data"
    }
   ],
   "source": [
    "df['area'].plot(kind = 'box',figsize=(7,20))"
   ]
  },
  {
   "cell_type": "markdown",
   "id": "6cf0f48e",
   "metadata": {
    "pycharm": {
     "name": "#%% md\n"
    }
   },
   "source": [
    "Из данных о площади видно, что в выборке содержится большое количество выбросов. **Перед обучением модели их стоит убрать**."
   ]
  },
  {
   "cell_type": "code",
   "execution_count": 162,
   "id": "e94510b5",
   "metadata": {
    "pycharm": {
     "name": "#%%\n"
    }
   },
   "outputs": [
    {
     "data": {
      "text/plain": [
       "<AxesSubplot:>"
      ]
     },
     "execution_count": 162,
     "metadata": {},
     "output_type": "execute_result"
    },
    {
     "data": {
      "image/png": "[encoded data removed]",
      "text/plain": [
       "<Figure size 504x1440 with 1 Axes>"
      ]
     },
     "metadata": {},
     "output_type": "display_data"
    }
   ],
   "source": [
    "df['price'].plot(kind = 'box',figsize=(7,20))"
   ]
  },
  {
   "cell_type": "markdown",
   "id": "8a597746",
   "metadata": {
    "pycharm": {
     "name": "#%% md\n"
    }
   },
   "source": [
    "Стоит также пофильтровать данные по ценам"
   ]
  },
  {
   "cell_type": "code",
   "execution_count": 163,
   "id": "075af907",
   "metadata": {
    "pycharm": {
     "name": "#%%\n"
    }
   },
   "outputs": [
    {
     "data": {
      "text/plain": [
       "<AxesSubplot:ylabel='building_type'>"
      ]
     },
     "execution_count": 163,
     "metadata": {},
     "output_type": "execute_result"
    },
    {
     "data": {
      "image/png": "[encoded data removed]",
      "text/plain": [
       "<Figure size 360x144 with 1 Axes>"
      ]
     },
     "metadata": {},
     "output_type": "display_data"
    }
   ],
   "source": [
    "df['building_type'].value_counts().plot(kind = 'pie')"
   ]
  },
  {
   "cell_type": "markdown",
   "id": "d2095dbd",
   "metadata": {
    "pycharm": {
     "name": "#%% md\n"
    }
   },
   "source": [
    "Типы фасадов:\n",
    "\n",
    "0 - Other\n",
    "\n",
    "1 - Panel\n",
    "\n",
    "2 - Monolithic\n",
    "\n",
    "3 - Brick\n",
    "\n",
    "4 - Blocky\n",
    "\n",
    "5 - Wooden"
   ]
  },
  {
   "cell_type": "code",
   "execution_count": 164,
   "id": "c2c5ebcf",
   "metadata": {
    "pycharm": {
     "name": "#%%\n"
    }
   },
   "outputs": [
    {
     "data": {
      "text/plain": [
       "<AxesSubplot:ylabel='object_type'>"
      ]
     },
     "execution_count": 164,
     "metadata": {},
     "output_type": "execute_result"
    },
    {
     "data": {
      "image/png": "[encoded data removed]",
      "text/plain": [
       "<Figure size 360x144 with 1 Axes>"
      ]
     },
     "metadata": {},
     "output_type": "display_data"
    }
   ],
   "source": [
    "df['object_type'].value_counts().plot(kind = 'pie')"
   ]
  },
  {
   "cell_type": "markdown",
   "id": "f95daab7",
   "metadata": {
    "pycharm": {
     "name": "#%% md\n"
    }
   },
   "source": [
    "Тип домов:\n",
    "\n",
    "1 - Secondary real estate market\n",
    "\n",
    "11 - New building\n"
   ]
  },
  {
   "cell_type": "code",
   "execution_count": 165,
   "id": "31ea3c71",
   "metadata": {
    "pycharm": {
     "name": "#%%\n"
    }
   },
   "outputs": [
    {
     "data": {
      "text/plain": [
       "<AxesSubplot:>"
      ]
     },
     "execution_count": 165,
     "metadata": {},
     "output_type": "execute_result"
    },
    {
     "data": {
      "image/png": "[encoded data removed]",
      "text/plain": [
       "<Figure size 720x360 with 1 Axes>"
      ]
     },
     "metadata": {},
     "output_type": "display_data"
    }
   ],
   "source": [
    "df['level'].value_counts().plot(kind = 'bar', figsize=(10,5))"
   ]
  },
  {
   "cell_type": "code",
   "execution_count": 166,
   "id": "1af1a943",
   "metadata": {
    "pycharm": {
     "name": "#%%\n"
    }
   },
   "outputs": [
    {
     "data": {
      "text/plain": [
       "<AxesSubplot:>"
      ]
     },
     "execution_count": 166,
     "metadata": {},
     "output_type": "execute_result"
    },
    {
     "data": {
      "image/png": "[encoded data removed]",
      "text/plain": [
       "<Figure size 720x360 with 1 Axes>"
      ]
     },
     "metadata": {},
     "output_type": "display_data"
    }
   ],
   "source": [
    "df['levels'].value_counts().plot(kind = 'bar', figsize=(10,5))"
   ]
  },
  {
   "cell_type": "code",
   "execution_count": 167,
   "id": "1c856452",
   "metadata": {
    "pycharm": {
     "name": "#%%\n"
    }
   },
   "outputs": [
    {
     "data": {
      "text/html": [
       "<div>\n",
       "<style scoped>\n",
       "    .dataframe tbody tr th:only-of-type {\n",
       "        vertical-align: middle;\n",
       "    }\n",
       "\n",
       "    .dataframe tbody tr th {\n",
       "        vertical-align: top;\n",
       "    }\n",
       "\n",
       "    .dataframe thead th {\n",
       "        text-align: right;\n",
       "    }\n",
       "</style>\n",
       "<table border=\"1\" class=\"dataframe\">\n",
       "  <thead>\n",
       "    <tr style=\"text-align: right;\">\n",
       "      <th></th>\n",
       "      <th>price</th>\n",
       "      <th>geo_lat</th>\n",
       "      <th>geo_lon</th>\n",
       "      <th>region</th>\n",
       "      <th>building_type</th>\n",
       "      <th>level</th>\n",
       "      <th>levels</th>\n",
       "      <th>rooms</th>\n",
       "      <th>area</th>\n",
       "      <th>kitchen_area</th>\n",
       "      <th>object_type</th>\n",
       "    </tr>\n",
       "  </thead>\n",
       "  <tbody>\n",
       "    <tr>\n",
       "      <th>150</th>\n",
       "      <td>8806100</td>\n",
       "      <td>55.872870</td>\n",
       "      <td>37.593110</td>\n",
       "      <td>3</td>\n",
       "      <td>1</td>\n",
       "      <td>5</td>\n",
       "      <td>24</td>\n",
       "      <td>2</td>\n",
       "      <td>53.5</td>\n",
       "      <td>18.5</td>\n",
       "      <td>11</td>\n",
       "    </tr>\n",
       "    <tr>\n",
       "      <th>384</th>\n",
       "      <td>13293000</td>\n",
       "      <td>55.790968</td>\n",
       "      <td>37.475395</td>\n",
       "      <td>3</td>\n",
       "      <td>2</td>\n",
       "      <td>3</td>\n",
       "      <td>14</td>\n",
       "      <td>2</td>\n",
       "      <td>64.4</td>\n",
       "      <td>14.0</td>\n",
       "      <td>11</td>\n",
       "    </tr>\n",
       "    <tr>\n",
       "      <th>1536</th>\n",
       "      <td>10600000</td>\n",
       "      <td>55.813353</td>\n",
       "      <td>37.632791</td>\n",
       "      <td>3</td>\n",
       "      <td>3</td>\n",
       "      <td>2</td>\n",
       "      <td>8</td>\n",
       "      <td>2</td>\n",
       "      <td>67.0</td>\n",
       "      <td>8.0</td>\n",
       "      <td>1</td>\n",
       "    </tr>\n",
       "    <tr>\n",
       "      <th>1938</th>\n",
       "      <td>14250000</td>\n",
       "      <td>55.806940</td>\n",
       "      <td>37.646392</td>\n",
       "      <td>3</td>\n",
       "      <td>2</td>\n",
       "      <td>6</td>\n",
       "      <td>12</td>\n",
       "      <td>2</td>\n",
       "      <td>69.0</td>\n",
       "      <td>13.0</td>\n",
       "      <td>11</td>\n",
       "    </tr>\n",
       "    <tr>\n",
       "      <th>1942</th>\n",
       "      <td>11990000</td>\n",
       "      <td>55.808834</td>\n",
       "      <td>37.649427</td>\n",
       "      <td>3</td>\n",
       "      <td>2</td>\n",
       "      <td>3</td>\n",
       "      <td>9</td>\n",
       "      <td>2</td>\n",
       "      <td>60.0</td>\n",
       "      <td>13.0</td>\n",
       "      <td>11</td>\n",
       "    </tr>\n",
       "    <tr>\n",
       "      <th>2039</th>\n",
       "      <td>7300000</td>\n",
       "      <td>55.880666</td>\n",
       "      <td>37.686428</td>\n",
       "      <td>3</td>\n",
       "      <td>3</td>\n",
       "      <td>1</td>\n",
       "      <td>9</td>\n",
       "      <td>2</td>\n",
       "      <td>50.0</td>\n",
       "      <td>7.0</td>\n",
       "      <td>1</td>\n",
       "    </tr>\n",
       "    <tr>\n",
       "      <th>2108</th>\n",
       "      <td>15990000</td>\n",
       "      <td>55.795249</td>\n",
       "      <td>37.525945</td>\n",
       "      <td>3</td>\n",
       "      <td>2</td>\n",
       "      <td>8</td>\n",
       "      <td>15</td>\n",
       "      <td>2</td>\n",
       "      <td>54.4</td>\n",
       "      <td>6.0</td>\n",
       "      <td>11</td>\n",
       "    </tr>\n",
       "    <tr>\n",
       "      <th>2109</th>\n",
       "      <td>19000000</td>\n",
       "      <td>55.795249</td>\n",
       "      <td>37.525945</td>\n",
       "      <td>3</td>\n",
       "      <td>2</td>\n",
       "      <td>3</td>\n",
       "      <td>15</td>\n",
       "      <td>2</td>\n",
       "      <td>74.2</td>\n",
       "      <td>13.5</td>\n",
       "      <td>11</td>\n",
       "    </tr>\n",
       "    <tr>\n",
       "      <th>2112</th>\n",
       "      <td>15200000</td>\n",
       "      <td>55.809934</td>\n",
       "      <td>37.727885</td>\n",
       "      <td>3</td>\n",
       "      <td>2</td>\n",
       "      <td>20</td>\n",
       "      <td>30</td>\n",
       "      <td>2</td>\n",
       "      <td>64.0</td>\n",
       "      <td>12.0</td>\n",
       "      <td>1</td>\n",
       "    </tr>\n",
       "    <tr>\n",
       "      <th>2298</th>\n",
       "      <td>8150000</td>\n",
       "      <td>55.815681</td>\n",
       "      <td>37.491817</td>\n",
       "      <td>3</td>\n",
       "      <td>3</td>\n",
       "      <td>3</td>\n",
       "      <td>3</td>\n",
       "      <td>2</td>\n",
       "      <td>49.0</td>\n",
       "      <td>8.0</td>\n",
       "      <td>1</td>\n",
       "    </tr>\n",
       "  </tbody>\n",
       "</table>\n",
       "</div>"
      ],
      "text/plain": [
       "         price    geo_lat    geo_lon  region  building_type  level  levels  \\\n",
       "150    8806100  55.872870  37.593110       3              1      5      24   \n",
       "384   13293000  55.790968  37.475395       3              2      3      14   \n",
       "1536  10600000  55.813353  37.632791       3              3      2       8   \n",
       "1938  14250000  55.806940  37.646392       3              2      6      12   \n",
       "1942  11990000  55.808834  37.649427       3              2      3       9   \n",
       "2039   7300000  55.880666  37.686428       3              3      1       9   \n",
       "2108  15990000  55.795249  37.525945       3              2      8      15   \n",
       "2109  19000000  55.795249  37.525945       3              2      3      15   \n",
       "2112  15200000  55.809934  37.727885       3              2     20      30   \n",
       "2298   8150000  55.815681  37.491817       3              3      3       3   \n",
       "\n",
       "      rooms  area  kitchen_area  object_type  \n",
       "150       2  53.5          18.5           11  \n",
       "384       2  64.4          14.0           11  \n",
       "1536      2  67.0           8.0            1  \n",
       "1938      2  69.0          13.0           11  \n",
       "1942      2  60.0          13.0           11  \n",
       "2039      2  50.0           7.0            1  \n",
       "2108      2  54.4           6.0           11  \n",
       "2109      2  74.2          13.5           11  \n",
       "2112      2  64.0          12.0            1  \n",
       "2298      2  49.0           8.0            1  "
      ]
     },
     "execution_count": 167,
     "metadata": {},
     "output_type": "execute_result"
    }
   ],
   "source": [
    "df_without_srt = df\n",
    "df_without_srt.drop(['date','time'], axis = 1, inplace = True)\n",
    "df_without_srt.head(10)"
   ]
  },
  {
   "cell_type": "code",
   "execution_count": 168,
   "id": "65ae309b",
   "metadata": {
    "pycharm": {
     "name": "#%%\n"
    }
   },
   "outputs": [
    {
     "data": {
      "image/png": "[encoded data removed]",
      "text/plain": [
       "<Figure size 720x720 with 2 Axes>"
      ]
     },
     "metadata": {},
     "output_type": "display_data"
    }
   ],
   "source": [
    "correlation = df.corr()\n",
    "sns.set(rc = {'figure.figsize':(10,10)})\n",
    "ax = sns.heatmap(correlation, center=0, cmap='RdBu_r')\n",
    "l, r = ax.get_ylim()\n",
    "ax.set_ylim(l + 0.5, r - 0.5)\n",
    "plt.yticks(rotation=0)\n",
    "plt.title('Correlation Matrix')\n",
    "plt.show()"
   ]
  },
  {
   "cell_type": "code",
   "execution_count": 106,
   "id": "9f86e1e4",
   "metadata": {
    "pycharm": {
     "name": "#%%\n"
    }
   },
   "outputs": [
    {
     "data": {
      "text/plain": [
       "<AxesSubplot:xlabel='object_type', ylabel='price'>"
      ]
     },
     "execution_count": 106,
     "metadata": {},
     "output_type": "execute_result"
    },
    {
     "data": {
      "image/png": "[encoded data removed]",
      "text/plain": [
       "<Figure size 360x1440 with 1 Axes>"
      ]
     },
     "metadata": {},
     "output_type": "display_data"
    }
   ],
   "source": [
    "sns.set(rc = {'figure.figsize':(5,20)})\n",
    "sns.boxplot(x = df['object_type'], y = df['price'])"
   ]
  },
  {
   "cell_type": "markdown",
   "id": "231f6830",
   "metadata": {
    "pycharm": {
     "name": "#%% md\n"
    }
   },
   "source": [
    "# Feature Engineering\n",
    "\n",
    "1. Произведу котегоризацию по этажей квартиры "
   ]
  },
  {
   "cell_type": "code",
   "execution_count": 169,
   "id": "ff846a82",
   "metadata": {
    "pycharm": {
     "name": "#%%\n"
    }
   },
   "outputs": [],
   "source": [
    "df['first floor'] = 1\n",
    "df['2 <= x <= 5'] = 1\n",
    "df['6 <= x <= 9'] = 1\n",
    "df['10 <= x <= 12'] = 1\n",
    "df['13 <= x <= 17'] = 1\n",
    "df['18 <= x'] = 1\n",
    "df['first floor'] = np.where((df.level != 1), 0, df['first floor'])\n",
    "df['2 <= x <= 5'] = np.where((2 > df.level) | (df.level > 5), 0, df['2 <= x <= 5'])\n",
    "df['6 <= x <= 9'] = np.where((6 > df.level) | (df.level > 9), 0, df['6 <= x <= 9'])\n",
    "df['10 <= x <= 12'] = np.where((10 > df.level) | (df.level > 12), 0, df['10 <= x <= 12'])\n",
    "df['13 <= x <= 17'] = np.where((13 > df.level) | (df.level > 17), 0, df['13 <= x <= 17'])\n",
    "df['18 <= x'] = np.where((18 > df.level), 0, df['18 <= x'])"
   ]
  },
  {
   "cell_type": "code",
   "execution_count": 170,
   "id": "2c071055",
   "metadata": {
    "pycharm": {
     "name": "#%%\n"
    }
   },
   "outputs": [],
   "source": [
    "#df.drop('level', axis = 1, inplace = True)"
   ]
  },
  {
   "cell_type": "code",
   "execution_count": 171,
   "id": "eb8b93da",
   "metadata": {
    "pycharm": {
     "name": "#%%\n"
    }
   },
   "outputs": [
    {
     "data": {
      "text/html": [
       "<div>\n",
       "<style scoped>\n",
       "    .dataframe tbody tr th:only-of-type {\n",
       "        vertical-align: middle;\n",
       "    }\n",
       "\n",
       "    .dataframe tbody tr th {\n",
       "        vertical-align: top;\n",
       "    }\n",
       "\n",
       "    .dataframe thead th {\n",
       "        text-align: right;\n",
       "    }\n",
       "</style>\n",
       "<table border=\"1\" class=\"dataframe\">\n",
       "  <thead>\n",
       "    <tr style=\"text-align: right;\">\n",
       "      <th></th>\n",
       "      <th>price</th>\n",
       "      <th>geo_lat</th>\n",
       "      <th>geo_lon</th>\n",
       "      <th>region</th>\n",
       "      <th>building_type</th>\n",
       "      <th>level</th>\n",
       "      <th>levels</th>\n",
       "      <th>rooms</th>\n",
       "      <th>area</th>\n",
       "      <th>kitchen_area</th>\n",
       "      <th>object_type</th>\n",
       "      <th>first floor</th>\n",
       "      <th>2 &lt;= x &lt;= 5</th>\n",
       "      <th>6 &lt;= x &lt;= 9</th>\n",
       "      <th>10 &lt;= x &lt;= 12</th>\n",
       "      <th>13 &lt;= x &lt;= 17</th>\n",
       "      <th>18 &lt;= x</th>\n",
       "    </tr>\n",
       "  </thead>\n",
       "  <tbody>\n",
       "    <tr>\n",
       "      <th>150</th>\n",
       "      <td>8806100</td>\n",
       "      <td>55.872870</td>\n",
       "      <td>37.593110</td>\n",
       "      <td>3</td>\n",
       "      <td>1</td>\n",
       "      <td>5</td>\n",
       "      <td>24</td>\n",
       "      <td>2</td>\n",
       "      <td>53.5</td>\n",
       "      <td>18.5</td>\n",
       "      <td>11</td>\n",
       "      <td>0</td>\n",
       "      <td>1</td>\n",
       "      <td>0</td>\n",
       "      <td>0</td>\n",
       "      <td>0</td>\n",
       "      <td>0</td>\n",
       "    </tr>\n",
       "    <tr>\n",
       "      <th>384</th>\n",
       "      <td>13293000</td>\n",
       "      <td>55.790968</td>\n",
       "      <td>37.475395</td>\n",
       "      <td>3</td>\n",
       "      <td>2</td>\n",
       "      <td>3</td>\n",
       "      <td>14</td>\n",
       "      <td>2</td>\n",
       "      <td>64.4</td>\n",
       "      <td>14.0</td>\n",
       "      <td>11</td>\n",
       "      <td>0</td>\n",
       "      <td>1</td>\n",
       "      <td>0</td>\n",
       "      <td>0</td>\n",
       "      <td>0</td>\n",
       "      <td>0</td>\n",
       "    </tr>\n",
       "    <tr>\n",
       "      <th>1536</th>\n",
       "      <td>10600000</td>\n",
       "      <td>55.813353</td>\n",
       "      <td>37.632791</td>\n",
       "      <td>3</td>\n",
       "      <td>3</td>\n",
       "      <td>2</td>\n",
       "      <td>8</td>\n",
       "      <td>2</td>\n",
       "      <td>67.0</td>\n",
       "      <td>8.0</td>\n",
       "      <td>1</td>\n",
       "      <td>0</td>\n",
       "      <td>1</td>\n",
       "      <td>0</td>\n",
       "      <td>0</td>\n",
       "      <td>0</td>\n",
       "      <td>0</td>\n",
       "    </tr>\n",
       "    <tr>\n",
       "      <th>1938</th>\n",
       "      <td>14250000</td>\n",
       "      <td>55.806940</td>\n",
       "      <td>37.646392</td>\n",
       "      <td>3</td>\n",
       "      <td>2</td>\n",
       "      <td>6</td>\n",
       "      <td>12</td>\n",
       "      <td>2</td>\n",
       "      <td>69.0</td>\n",
       "      <td>13.0</td>\n",
       "      <td>11</td>\n",
       "      <td>0</td>\n",
       "      <td>0</td>\n",
       "      <td>1</td>\n",
       "      <td>0</td>\n",
       "      <td>0</td>\n",
       "      <td>0</td>\n",
       "    </tr>\n",
       "    <tr>\n",
       "      <th>1942</th>\n",
       "      <td>11990000</td>\n",
       "      <td>55.808834</td>\n",
       "      <td>37.649427</td>\n",
       "      <td>3</td>\n",
       "      <td>2</td>\n",
       "      <td>3</td>\n",
       "      <td>9</td>\n",
       "      <td>2</td>\n",
       "      <td>60.0</td>\n",
       "      <td>13.0</td>\n",
       "      <td>11</td>\n",
       "      <td>0</td>\n",
       "      <td>1</td>\n",
       "      <td>0</td>\n",
       "      <td>0</td>\n",
       "      <td>0</td>\n",
       "      <td>0</td>\n",
       "    </tr>\n",
       "    <tr>\n",
       "      <th>2039</th>\n",
       "      <td>7300000</td>\n",
       "      <td>55.880666</td>\n",
       "      <td>37.686428</td>\n",
       "      <td>3</td>\n",
       "      <td>3</td>\n",
       "      <td>1</td>\n",
       "      <td>9</td>\n",
       "      <td>2</td>\n",
       "      <td>50.0</td>\n",
       "      <td>7.0</td>\n",
       "      <td>1</td>\n",
       "      <td>1</td>\n",
       "      <td>0</td>\n",
       "      <td>0</td>\n",
       "      <td>0</td>\n",
       "      <td>0</td>\n",
       "      <td>0</td>\n",
       "    </tr>\n",
       "    <tr>\n",
       "      <th>2108</th>\n",
       "      <td>15990000</td>\n",
       "      <td>55.795249</td>\n",
       "      <td>37.525945</td>\n",
       "      <td>3</td>\n",
       "      <td>2</td>\n",
       "      <td>8</td>\n",
       "      <td>15</td>\n",
       "      <td>2</td>\n",
       "      <td>54.4</td>\n",
       "      <td>6.0</td>\n",
       "      <td>11</td>\n",
       "      <td>0</td>\n",
       "      <td>0</td>\n",
       "      <td>1</td>\n",
       "      <td>0</td>\n",
       "      <td>0</td>\n",
       "      <td>0</td>\n",
       "    </tr>\n",
       "    <tr>\n",
       "      <th>2109</th>\n",
       "      <td>19000000</td>\n",
       "      <td>55.795249</td>\n",
       "      <td>37.525945</td>\n",
       "      <td>3</td>\n",
       "      <td>2</td>\n",
       "      <td>3</td>\n",
       "      <td>15</td>\n",
       "      <td>2</td>\n",
       "      <td>74.2</td>\n",
       "      <td>13.5</td>\n",
       "      <td>11</td>\n",
       "      <td>0</td>\n",
       "      <td>1</td>\n",
       "      <td>0</td>\n",
       "      <td>0</td>\n",
       "      <td>0</td>\n",
       "      <td>0</td>\n",
       "    </tr>\n",
       "    <tr>\n",
       "      <th>2112</th>\n",
       "      <td>15200000</td>\n",
       "      <td>55.809934</td>\n",
       "      <td>37.727885</td>\n",
       "      <td>3</td>\n",
       "      <td>2</td>\n",
       "      <td>20</td>\n",
       "      <td>30</td>\n",
       "      <td>2</td>\n",
       "      <td>64.0</td>\n",
       "      <td>12.0</td>\n",
       "      <td>1</td>\n",
       "      <td>0</td>\n",
       "      <td>0</td>\n",
       "      <td>0</td>\n",
       "      <td>0</td>\n",
       "      <td>0</td>\n",
       "      <td>1</td>\n",
       "    </tr>\n",
       "    <tr>\n",
       "      <th>2298</th>\n",
       "      <td>8150000</td>\n",
       "      <td>55.815681</td>\n",
       "      <td>37.491817</td>\n",
       "      <td>3</td>\n",
       "      <td>3</td>\n",
       "      <td>3</td>\n",
       "      <td>3</td>\n",
       "      <td>2</td>\n",
       "      <td>49.0</td>\n",
       "      <td>8.0</td>\n",
       "      <td>1</td>\n",
       "      <td>0</td>\n",
       "      <td>1</td>\n",
       "      <td>0</td>\n",
       "      <td>0</td>\n",
       "      <td>0</td>\n",
       "      <td>0</td>\n",
       "    </tr>\n",
       "  </tbody>\n",
       "</table>\n",
       "</div>"
      ],
      "text/plain": [
       "         price    geo_lat    geo_lon  region  building_type  level  levels  \\\n",
       "150    8806100  55.872870  37.593110       3              1      5      24   \n",
       "384   13293000  55.790968  37.475395       3              2      3      14   \n",
       "1536  10600000  55.813353  37.632791       3              3      2       8   \n",
       "1938  14250000  55.806940  37.646392       3              2      6      12   \n",
       "1942  11990000  55.808834  37.649427       3              2      3       9   \n",
       "2039   7300000  55.880666  37.686428       3              3      1       9   \n",
       "2108  15990000  55.795249  37.525945       3              2      8      15   \n",
       "2109  19000000  55.795249  37.525945       3              2      3      15   \n",
       "2112  15200000  55.809934  37.727885       3              2     20      30   \n",
       "2298   8150000  55.815681  37.491817       3              3      3       3   \n",
       "\n",
       "      rooms  area  kitchen_area  object_type  first floor  2 <= x <= 5  \\\n",
       "150       2  53.5          18.5           11            0            1   \n",
       "384       2  64.4          14.0           11            0            1   \n",
       "1536      2  67.0           8.0            1            0            1   \n",
       "1938      2  69.0          13.0           11            0            0   \n",
       "1942      2  60.0          13.0           11            0            1   \n",
       "2039      2  50.0           7.0            1            1            0   \n",
       "2108      2  54.4           6.0           11            0            0   \n",
       "2109      2  74.2          13.5           11            0            1   \n",
       "2112      2  64.0          12.0            1            0            0   \n",
       "2298      2  49.0           8.0            1            0            1   \n",
       "\n",
       "      6 <= x <= 9  10 <= x <= 12  13 <= x <= 17  18 <= x  \n",
       "150             0              0              0        0  \n",
       "384             0              0              0        0  \n",
       "1536            0              0              0        0  \n",
       "1938            1              0              0        0  \n",
       "1942            0              0              0        0  \n",
       "2039            0              0              0        0  \n",
       "2108            1              0              0        0  \n",
       "2109            0              0              0        0  \n",
       "2112            0              0              0        1  \n",
       "2298            0              0              0        0  "
      ]
     },
     "execution_count": 171,
     "metadata": {},
     "output_type": "execute_result"
    }
   ],
   "source": [
    "df.head(10)"
   ]
  },
  {
   "cell_type": "markdown",
   "id": "af25280d",
   "metadata": {
    "pycharm": {
     "name": "#%% md\n"
    }
   },
   "source": [
    "2. Проебразую количество этажей в сдании\n",
    "\n",
    "   Сделаю новый столбец в котором в процентах будет показываться уровень от максимума на котором находиться квартира"
   ]
  },
  {
   "cell_type": "code",
   "execution_count": 173,
   "id": "ab108586",
   "metadata": {
    "pycharm": {
     "name": "#%%\n"
    }
   },
   "outputs": [
    {
     "data": {
      "text/html": [
       "<div>\n",
       "<style scoped>\n",
       "    .dataframe tbody tr th:only-of-type {\n",
       "        vertical-align: middle;\n",
       "    }\n",
       "\n",
       "    .dataframe tbody tr th {\n",
       "        vertical-align: top;\n",
       "    }\n",
       "\n",
       "    .dataframe thead th {\n",
       "        text-align: right;\n",
       "    }\n",
       "</style>\n",
       "<table border=\"1\" class=\"dataframe\">\n",
       "  <thead>\n",
       "    <tr style=\"text-align: right;\">\n",
       "      <th></th>\n",
       "      <th>price</th>\n",
       "      <th>geo_lat</th>\n",
       "      <th>geo_lon</th>\n",
       "      <th>region</th>\n",
       "      <th>building_type</th>\n",
       "      <th>level</th>\n",
       "      <th>levels</th>\n",
       "      <th>rooms</th>\n",
       "      <th>area</th>\n",
       "      <th>kitchen_area</th>\n",
       "      <th>object_type</th>\n",
       "      <th>first floor</th>\n",
       "      <th>2 &lt;= x &lt;= 5</th>\n",
       "      <th>6 &lt;= x &lt;= 9</th>\n",
       "      <th>10 &lt;= x &lt;= 12</th>\n",
       "      <th>13 &lt;= x &lt;= 17</th>\n",
       "      <th>18 &lt;= x</th>\n",
       "      <th>level_prop</th>\n",
       "    </tr>\n",
       "  </thead>\n",
       "  <tbody>\n",
       "    <tr>\n",
       "      <th>150</th>\n",
       "      <td>8806100</td>\n",
       "      <td>55.872870</td>\n",
       "      <td>37.593110</td>\n",
       "      <td>3</td>\n",
       "      <td>1</td>\n",
       "      <td>5</td>\n",
       "      <td>24</td>\n",
       "      <td>2</td>\n",
       "      <td>53.5</td>\n",
       "      <td>18.5</td>\n",
       "      <td>11</td>\n",
       "      <td>0</td>\n",
       "      <td>1</td>\n",
       "      <td>0</td>\n",
       "      <td>0</td>\n",
       "      <td>0</td>\n",
       "      <td>0</td>\n",
       "      <td>0.208333</td>\n",
       "    </tr>\n",
       "    <tr>\n",
       "      <th>384</th>\n",
       "      <td>13293000</td>\n",
       "      <td>55.790968</td>\n",
       "      <td>37.475395</td>\n",
       "      <td>3</td>\n",
       "      <td>2</td>\n",
       "      <td>3</td>\n",
       "      <td>14</td>\n",
       "      <td>2</td>\n",
       "      <td>64.4</td>\n",
       "      <td>14.0</td>\n",
       "      <td>11</td>\n",
       "      <td>0</td>\n",
       "      <td>1</td>\n",
       "      <td>0</td>\n",
       "      <td>0</td>\n",
       "      <td>0</td>\n",
       "      <td>0</td>\n",
       "      <td>0.214286</td>\n",
       "    </tr>\n",
       "    <tr>\n",
       "      <th>1536</th>\n",
       "      <td>10600000</td>\n",
       "      <td>55.813353</td>\n",
       "      <td>37.632791</td>\n",
       "      <td>3</td>\n",
       "      <td>3</td>\n",
       "      <td>2</td>\n",
       "      <td>8</td>\n",
       "      <td>2</td>\n",
       "      <td>67.0</td>\n",
       "      <td>8.0</td>\n",
       "      <td>1</td>\n",
       "      <td>0</td>\n",
       "      <td>1</td>\n",
       "      <td>0</td>\n",
       "      <td>0</td>\n",
       "      <td>0</td>\n",
       "      <td>0</td>\n",
       "      <td>0.250000</td>\n",
       "    </tr>\n",
       "    <tr>\n",
       "      <th>1938</th>\n",
       "      <td>14250000</td>\n",
       "      <td>55.806940</td>\n",
       "      <td>37.646392</td>\n",
       "      <td>3</td>\n",
       "      <td>2</td>\n",
       "      <td>6</td>\n",
       "      <td>12</td>\n",
       "      <td>2</td>\n",
       "      <td>69.0</td>\n",
       "      <td>13.0</td>\n",
       "      <td>11</td>\n",
       "      <td>0</td>\n",
       "      <td>0</td>\n",
       "      <td>1</td>\n",
       "      <td>0</td>\n",
       "      <td>0</td>\n",
       "      <td>0</td>\n",
       "      <td>0.500000</td>\n",
       "    </tr>\n",
       "    <tr>\n",
       "      <th>1942</th>\n",
       "      <td>11990000</td>\n",
       "      <td>55.808834</td>\n",
       "      <td>37.649427</td>\n",
       "      <td>3</td>\n",
       "      <td>2</td>\n",
       "      <td>3</td>\n",
       "      <td>9</td>\n",
       "      <td>2</td>\n",
       "      <td>60.0</td>\n",
       "      <td>13.0</td>\n",
       "      <td>11</td>\n",
       "      <td>0</td>\n",
       "      <td>1</td>\n",
       "      <td>0</td>\n",
       "      <td>0</td>\n",
       "      <td>0</td>\n",
       "      <td>0</td>\n",
       "      <td>0.333333</td>\n",
       "    </tr>\n",
       "    <tr>\n",
       "      <th>2039</th>\n",
       "      <td>7300000</td>\n",
       "      <td>55.880666</td>\n",
       "      <td>37.686428</td>\n",
       "      <td>3</td>\n",
       "      <td>3</td>\n",
       "      <td>1</td>\n",
       "      <td>9</td>\n",
       "      <td>2</td>\n",
       "      <td>50.0</td>\n",
       "      <td>7.0</td>\n",
       "      <td>1</td>\n",
       "      <td>1</td>\n",
       "      <td>0</td>\n",
       "      <td>0</td>\n",
       "      <td>0</td>\n",
       "      <td>0</td>\n",
       "      <td>0</td>\n",
       "      <td>0.111111</td>\n",
       "    </tr>\n",
       "    <tr>\n",
       "      <th>2108</th>\n",
       "      <td>15990000</td>\n",
       "      <td>55.795249</td>\n",
       "      <td>37.525945</td>\n",
       "      <td>3</td>\n",
       "      <td>2</td>\n",
       "      <td>8</td>\n",
       "      <td>15</td>\n",
       "      <td>2</td>\n",
       "      <td>54.4</td>\n",
       "      <td>6.0</td>\n",
       "      <td>11</td>\n",
       "      <td>0</td>\n",
       "      <td>0</td>\n",
       "      <td>1</td>\n",
       "      <td>0</td>\n",
       "      <td>0</td>\n",
       "      <td>0</td>\n",
       "      <td>0.533333</td>\n",
       "    </tr>\n",
       "    <tr>\n",
       "      <th>2109</th>\n",
       "      <td>19000000</td>\n",
       "      <td>55.795249</td>\n",
       "      <td>37.525945</td>\n",
       "      <td>3</td>\n",
       "      <td>2</td>\n",
       "      <td>3</td>\n",
       "      <td>15</td>\n",
       "      <td>2</td>\n",
       "      <td>74.2</td>\n",
       "      <td>13.5</td>\n",
       "      <td>11</td>\n",
       "      <td>0</td>\n",
       "      <td>1</td>\n",
       "      <td>0</td>\n",
       "      <td>0</td>\n",
       "      <td>0</td>\n",
       "      <td>0</td>\n",
       "      <td>0.200000</td>\n",
       "    </tr>\n",
       "    <tr>\n",
       "      <th>2112</th>\n",
       "      <td>15200000</td>\n",
       "      <td>55.809934</td>\n",
       "      <td>37.727885</td>\n",
       "      <td>3</td>\n",
       "      <td>2</td>\n",
       "      <td>20</td>\n",
       "      <td>30</td>\n",
       "      <td>2</td>\n",
       "      <td>64.0</td>\n",
       "      <td>12.0</td>\n",
       "      <td>1</td>\n",
       "      <td>0</td>\n",
       "      <td>0</td>\n",
       "      <td>0</td>\n",
       "      <td>0</td>\n",
       "      <td>0</td>\n",
       "      <td>1</td>\n",
       "      <td>0.666667</td>\n",
       "    </tr>\n",
       "    <tr>\n",
       "      <th>2298</th>\n",
       "      <td>8150000</td>\n",
       "      <td>55.815681</td>\n",
       "      <td>37.491817</td>\n",
       "      <td>3</td>\n",
       "      <td>3</td>\n",
       "      <td>3</td>\n",
       "      <td>3</td>\n",
       "      <td>2</td>\n",
       "      <td>49.0</td>\n",
       "      <td>8.0</td>\n",
       "      <td>1</td>\n",
       "      <td>0</td>\n",
       "      <td>1</td>\n",
       "      <td>0</td>\n",
       "      <td>0</td>\n",
       "      <td>0</td>\n",
       "      <td>0</td>\n",
       "      <td>1.000000</td>\n",
       "    </tr>\n",
       "  </tbody>\n",
       "</table>\n",
       "</div>"
      ],
      "text/plain": [
       "         price    geo_lat    geo_lon  region  building_type  level  levels  \\\n",
       "150    8806100  55.872870  37.593110       3              1      5      24   \n",
       "384   13293000  55.790968  37.475395       3              2      3      14   \n",
       "1536  10600000  55.813353  37.632791       3              3      2       8   \n",
       "1938  14250000  55.806940  37.646392       3              2      6      12   \n",
       "1942  11990000  55.808834  37.649427       3              2      3       9   \n",
       "2039   7300000  55.880666  37.686428       3              3      1       9   \n",
       "2108  15990000  55.795249  37.525945       3              2      8      15   \n",
       "2109  19000000  55.795249  37.525945       3              2      3      15   \n",
       "2112  15200000  55.809934  37.727885       3              2     20      30   \n",
       "2298   8150000  55.815681  37.491817       3              3      3       3   \n",
       "\n",
       "      rooms  area  kitchen_area  object_type  first floor  2 <= x <= 5  \\\n",
       "150       2  53.5          18.5           11            0            1   \n",
       "384       2  64.4          14.0           11            0            1   \n",
       "1536      2  67.0           8.0            1            0            1   \n",
       "1938      2  69.0          13.0           11            0            0   \n",
       "1942      2  60.0          13.0           11            0            1   \n",
       "2039      2  50.0           7.0            1            1            0   \n",
       "2108      2  54.4           6.0           11            0            0   \n",
       "2109      2  74.2          13.5           11            0            1   \n",
       "2112      2  64.0          12.0            1            0            0   \n",
       "2298      2  49.0           8.0            1            0            1   \n",
       "\n",
       "      6 <= x <= 9  10 <= x <= 12  13 <= x <= 17  18 <= x  level_prop  \n",
       "150             0              0              0        0    0.208333  \n",
       "384             0              0              0        0    0.214286  \n",
       "1536            0              0              0        0    0.250000  \n",
       "1938            1              0              0        0    0.500000  \n",
       "1942            0              0              0        0    0.333333  \n",
       "2039            0              0              0        0    0.111111  \n",
       "2108            1              0              0        0    0.533333  \n",
       "2109            0              0              0        0    0.200000  \n",
       "2112            0              0              0        1    0.666667  \n",
       "2298            0              0              0        0    1.000000  "
      ]
     },
     "execution_count": 173,
     "metadata": {},
     "output_type": "execute_result"
    }
   ],
   "source": [
    "df['level_prop'] = df['level']/df['levels']\n",
    "df.head(10)"
   ]
  },
  {
   "cell_type": "markdown",
   "id": "62ba91b6",
   "metadata": {
    "pycharm": {
     "name": "#%% md\n"
    }
   },
   "source": [
    "3. Категоризую столбец **object_type**"
   ]
  },
  {
   "cell_type": "code",
   "execution_count": 175,
   "id": "37fc8786",
   "metadata": {
    "pycharm": {
     "name": "#%%\n"
    }
   },
   "outputs": [],
   "source": [
    "df['new'] = 0\n",
    "df['old'] = 0\n",
    "df['new'] = np.where((df.object_type == 1), 1, df['new'])\n",
    "df['old'] = np.where((df.object_type == 11), 1, df['old'])\n",
    "df.drop('object_type', axis = 1, inplace = True)"
   ]
  },
  {
   "cell_type": "code",
   "execution_count": 176,
   "id": "ef36aa1a",
   "metadata": {
    "pycharm": {
     "name": "#%%\n"
    }
   },
   "outputs": [
    {
     "data": {
      "text/html": [
       "<div>\n",
       "<style scoped>\n",
       "    .dataframe tbody tr th:only-of-type {\n",
       "        vertical-align: middle;\n",
       "    }\n",
       "\n",
       "    .dataframe tbody tr th {\n",
       "        vertical-align: top;\n",
       "    }\n",
       "\n",
       "    .dataframe thead th {\n",
       "        text-align: right;\n",
       "    }\n",
       "</style>\n",
       "<table border=\"1\" class=\"dataframe\">\n",
       "  <thead>\n",
       "    <tr style=\"text-align: right;\">\n",
       "      <th></th>\n",
       "      <th>price</th>\n",
       "      <th>geo_lat</th>\n",
       "      <th>geo_lon</th>\n",
       "      <th>region</th>\n",
       "      <th>building_type</th>\n",
       "      <th>level</th>\n",
       "      <th>levels</th>\n",
       "      <th>rooms</th>\n",
       "      <th>area</th>\n",
       "      <th>kitchen_area</th>\n",
       "      <th>first floor</th>\n",
       "      <th>2 &lt;= x &lt;= 5</th>\n",
       "      <th>6 &lt;= x &lt;= 9</th>\n",
       "      <th>10 &lt;= x &lt;= 12</th>\n",
       "      <th>13 &lt;= x &lt;= 17</th>\n",
       "      <th>18 &lt;= x</th>\n",
       "      <th>level_prop</th>\n",
       "      <th>new</th>\n",
       "      <th>old</th>\n",
       "    </tr>\n",
       "  </thead>\n",
       "  <tbody>\n",
       "    <tr>\n",
       "      <th>150</th>\n",
       "      <td>8806100</td>\n",
       "      <td>55.872870</td>\n",
       "      <td>37.593110</td>\n",
       "      <td>3</td>\n",
       "      <td>1</td>\n",
       "      <td>5</td>\n",
       "      <td>24</td>\n",
       "      <td>2</td>\n",
       "      <td>53.5</td>\n",
       "      <td>18.5</td>\n",
       "      <td>0</td>\n",
       "      <td>1</td>\n",
       "      <td>0</td>\n",
       "      <td>0</td>\n",
       "      <td>0</td>\n",
       "      <td>0</td>\n",
       "      <td>0.208333</td>\n",
       "      <td>0</td>\n",
       "      <td>1</td>\n",
       "    </tr>\n",
       "    <tr>\n",
       "      <th>384</th>\n",
       "      <td>13293000</td>\n",
       "      <td>55.790968</td>\n",
       "      <td>37.475395</td>\n",
       "      <td>3</td>\n",
       "      <td>2</td>\n",
       "      <td>3</td>\n",
       "      <td>14</td>\n",
       "      <td>2</td>\n",
       "      <td>64.4</td>\n",
       "      <td>14.0</td>\n",
       "      <td>0</td>\n",
       "      <td>1</td>\n",
       "      <td>0</td>\n",
       "      <td>0</td>\n",
       "      <td>0</td>\n",
       "      <td>0</td>\n",
       "      <td>0.214286</td>\n",
       "      <td>0</td>\n",
       "      <td>1</td>\n",
       "    </tr>\n",
       "    <tr>\n",
       "      <th>1536</th>\n",
       "      <td>10600000</td>\n",
       "      <td>55.813353</td>\n",
       "      <td>37.632791</td>\n",
       "      <td>3</td>\n",
       "      <td>3</td>\n",
       "      <td>2</td>\n",
       "      <td>8</td>\n",
       "      <td>2</td>\n",
       "      <td>67.0</td>\n",
       "      <td>8.0</td>\n",
       "      <td>0</td>\n",
       "      <td>1</td>\n",
       "      <td>0</td>\n",
       "      <td>0</td>\n",
       "      <td>0</td>\n",
       "      <td>0</td>\n",
       "      <td>0.250000</td>\n",
       "      <td>1</td>\n",
       "      <td>0</td>\n",
       "    </tr>\n",
       "    <tr>\n",
       "      <th>1938</th>\n",
       "      <td>14250000</td>\n",
       "      <td>55.806940</td>\n",
       "      <td>37.646392</td>\n",
       "      <td>3</td>\n",
       "      <td>2</td>\n",
       "      <td>6</td>\n",
       "      <td>12</td>\n",
       "      <td>2</td>\n",
       "      <td>69.0</td>\n",
       "      <td>13.0</td>\n",
       "      <td>0</td>\n",
       "      <td>0</td>\n",
       "      <td>1</td>\n",
       "      <td>0</td>\n",
       "      <td>0</td>\n",
       "      <td>0</td>\n",
       "      <td>0.500000</td>\n",
       "      <td>0</td>\n",
       "      <td>1</td>\n",
       "    </tr>\n",
       "    <tr>\n",
       "      <th>1942</th>\n",
       "      <td>11990000</td>\n",
       "      <td>55.808834</td>\n",
       "      <td>37.649427</td>\n",
       "      <td>3</td>\n",
       "      <td>2</td>\n",
       "      <td>3</td>\n",
       "      <td>9</td>\n",
       "      <td>2</td>\n",
       "      <td>60.0</td>\n",
       "      <td>13.0</td>\n",
       "      <td>0</td>\n",
       "      <td>1</td>\n",
       "      <td>0</td>\n",
       "      <td>0</td>\n",
       "      <td>0</td>\n",
       "      <td>0</td>\n",
       "      <td>0.333333</td>\n",
       "      <td>0</td>\n",
       "      <td>1</td>\n",
       "    </tr>\n",
       "    <tr>\n",
       "      <th>2039</th>\n",
       "      <td>7300000</td>\n",
       "      <td>55.880666</td>\n",
       "      <td>37.686428</td>\n",
       "      <td>3</td>\n",
       "      <td>3</td>\n",
       "      <td>1</td>\n",
       "      <td>9</td>\n",
       "      <td>2</td>\n",
       "      <td>50.0</td>\n",
       "      <td>7.0</td>\n",
       "      <td>1</td>\n",
       "      <td>0</td>\n",
       "      <td>0</td>\n",
       "      <td>0</td>\n",
       "      <td>0</td>\n",
       "      <td>0</td>\n",
       "      <td>0.111111</td>\n",
       "      <td>1</td>\n",
       "      <td>0</td>\n",
       "    </tr>\n",
       "    <tr>\n",
       "      <th>2108</th>\n",
       "      <td>15990000</td>\n",
       "      <td>55.795249</td>\n",
       "      <td>37.525945</td>\n",
       "      <td>3</td>\n",
       "      <td>2</td>\n",
       "      <td>8</td>\n",
       "      <td>15</td>\n",
       "      <td>2</td>\n",
       "      <td>54.4</td>\n",
       "      <td>6.0</td>\n",
       "      <td>0</td>\n",
       "      <td>0</td>\n",
       "      <td>1</td>\n",
       "      <td>0</td>\n",
       "      <td>0</td>\n",
       "      <td>0</td>\n",
       "      <td>0.533333</td>\n",
       "      <td>0</td>\n",
       "      <td>1</td>\n",
       "    </tr>\n",
       "    <tr>\n",
       "      <th>2109</th>\n",
       "      <td>19000000</td>\n",
       "      <td>55.795249</td>\n",
       "      <td>37.525945</td>\n",
       "      <td>3</td>\n",
       "      <td>2</td>\n",
       "      <td>3</td>\n",
       "      <td>15</td>\n",
       "      <td>2</td>\n",
       "      <td>74.2</td>\n",
       "      <td>13.5</td>\n",
       "      <td>0</td>\n",
       "      <td>1</td>\n",
       "      <td>0</td>\n",
       "      <td>0</td>\n",
       "      <td>0</td>\n",
       "      <td>0</td>\n",
       "      <td>0.200000</td>\n",
       "      <td>0</td>\n",
       "      <td>1</td>\n",
       "    </tr>\n",
       "    <tr>\n",
       "      <th>2112</th>\n",
       "      <td>15200000</td>\n",
       "      <td>55.809934</td>\n",
       "      <td>37.727885</td>\n",
       "      <td>3</td>\n",
       "      <td>2</td>\n",
       "      <td>20</td>\n",
       "      <td>30</td>\n",
       "      <td>2</td>\n",
       "      <td>64.0</td>\n",
       "      <td>12.0</td>\n",
       "      <td>0</td>\n",
       "      <td>0</td>\n",
       "      <td>0</td>\n",
       "      <td>0</td>\n",
       "      <td>0</td>\n",
       "      <td>1</td>\n",
       "      <td>0.666667</td>\n",
       "      <td>1</td>\n",
       "      <td>0</td>\n",
       "    </tr>\n",
       "    <tr>\n",
       "      <th>2298</th>\n",
       "      <td>8150000</td>\n",
       "      <td>55.815681</td>\n",
       "      <td>37.491817</td>\n",
       "      <td>3</td>\n",
       "      <td>3</td>\n",
       "      <td>3</td>\n",
       "      <td>3</td>\n",
       "      <td>2</td>\n",
       "      <td>49.0</td>\n",
       "      <td>8.0</td>\n",
       "      <td>0</td>\n",
       "      <td>1</td>\n",
       "      <td>0</td>\n",
       "      <td>0</td>\n",
       "      <td>0</td>\n",
       "      <td>0</td>\n",
       "      <td>1.000000</td>\n",
       "      <td>1</td>\n",
       "      <td>0</td>\n",
       "    </tr>\n",
       "  </tbody>\n",
       "</table>\n",
       "</div>"
      ],
      "text/plain": [
       "         price    geo_lat    geo_lon  region  building_type  level  levels  \\\n",
       "150    8806100  55.872870  37.593110       3              1      5      24   \n",
       "384   13293000  55.790968  37.475395       3              2      3      14   \n",
       "1536  10600000  55.813353  37.632791       3              3      2       8   \n",
       "1938  14250000  55.806940  37.646392       3              2      6      12   \n",
       "1942  11990000  55.808834  37.649427       3              2      3       9   \n",
       "2039   7300000  55.880666  37.686428       3              3      1       9   \n",
       "2108  15990000  55.795249  37.525945       3              2      8      15   \n",
       "2109  19000000  55.795249  37.525945       3              2      3      15   \n",
       "2112  15200000  55.809934  37.727885       3              2     20      30   \n",
       "2298   8150000  55.815681  37.491817       3              3      3       3   \n",
       "\n",
       "      rooms  area  kitchen_area  first floor  2 <= x <= 5  6 <= x <= 9  \\\n",
       "150       2  53.5          18.5            0            1            0   \n",
       "384       2  64.4          14.0            0            1            0   \n",
       "1536      2  67.0           8.0            0            1            0   \n",
       "1938      2  69.0          13.0            0            0            1   \n",
       "1942      2  60.0          13.0            0            1            0   \n",
       "2039      2  50.0           7.0            1            0            0   \n",
       "2108      2  54.4           6.0            0            0            1   \n",
       "2109      2  74.2          13.5            0            1            0   \n",
       "2112      2  64.0          12.0            0            0            0   \n",
       "2298      2  49.0           8.0            0            1            0   \n",
       "\n",
       "      10 <= x <= 12  13 <= x <= 17  18 <= x  level_prop  new  old  \n",
       "150               0              0        0    0.208333    0    1  \n",
       "384               0              0        0    0.214286    0    1  \n",
       "1536              0              0        0    0.250000    1    0  \n",
       "1938              0              0        0    0.500000    0    1  \n",
       "1942              0              0        0    0.333333    0    1  \n",
       "2039              0              0        0    0.111111    1    0  \n",
       "2108              0              0        0    0.533333    0    1  \n",
       "2109              0              0        0    0.200000    0    1  \n",
       "2112              0              0        1    0.666667    1    0  \n",
       "2298              0              0        0    1.000000    1    0  "
      ]
     },
     "execution_count": 176,
     "metadata": {},
     "output_type": "execute_result"
    }
   ],
   "source": [
    "df.head(10)"
   ]
  },
  {
   "cell_type": "markdown",
   "id": "1a97e3b5",
   "metadata": {
    "pycharm": {
     "name": "#%% md\n"
    }
   },
   "source": [
    "4. Категоризую столбец **building_type**\n",
    "\n",
    "\n",
    "0 - Other\n",
    "\n",
    "1 - Panel\n",
    "\n",
    "2 - Monolithic\n",
    "\n",
    "3 - Brick\n",
    "\n",
    "4 - Blocky\n",
    "\n",
    "5 - Wooden"
   ]
  },
  {
   "cell_type": "code",
   "execution_count": 179,
   "id": "3fe9312c",
   "metadata": {
    "pycharm": {
     "name": "#%%\n"
    }
   },
   "outputs": [
    {
     "data": {
      "text/html": [
       "<div>\n",
       "<style scoped>\n",
       "    .dataframe tbody tr th:only-of-type {\n",
       "        vertical-align: middle;\n",
       "    }\n",
       "\n",
       "    .dataframe tbody tr th {\n",
       "        vertical-align: top;\n",
       "    }\n",
       "\n",
       "    .dataframe thead th {\n",
       "        text-align: right;\n",
       "    }\n",
       "</style>\n",
       "<table border=\"1\" class=\"dataframe\">\n",
       "  <thead>\n",
       "    <tr style=\"text-align: right;\">\n",
       "      <th></th>\n",
       "      <th>price</th>\n",
       "      <th>geo_lat</th>\n",
       "      <th>geo_lon</th>\n",
       "      <th>region</th>\n",
       "      <th>building_type</th>\n",
       "      <th>level</th>\n",
       "      <th>levels</th>\n",
       "      <th>rooms</th>\n",
       "      <th>area</th>\n",
       "      <th>kitchen_area</th>\n",
       "      <th>first floor</th>\n",
       "      <th>2 &lt;= x &lt;= 5</th>\n",
       "      <th>6 &lt;= x &lt;= 9</th>\n",
       "      <th>10 &lt;= x &lt;= 12</th>\n",
       "      <th>13 &lt;= x &lt;= 17</th>\n",
       "      <th>18 &lt;= x</th>\n",
       "      <th>level_prop</th>\n",
       "      <th>new</th>\n",
       "      <th>old</th>\n",
       "      <th>Other</th>\n",
       "      <th>Panel</th>\n",
       "      <th>Monolithic</th>\n",
       "      <th>Brick</th>\n",
       "      <th>Blocky</th>\n",
       "      <th>Wooden</th>\n",
       "    </tr>\n",
       "  </thead>\n",
       "  <tbody>\n",
       "    <tr>\n",
       "      <th>150</th>\n",
       "      <td>8806100</td>\n",
       "      <td>55.872870</td>\n",
       "      <td>37.593110</td>\n",
       "      <td>3</td>\n",
       "      <td>1</td>\n",
       "      <td>5</td>\n",
       "      <td>24</td>\n",
       "      <td>2</td>\n",
       "      <td>53.5</td>\n",
       "      <td>18.5</td>\n",
       "      <td>0</td>\n",
       "      <td>1</td>\n",
       "      <td>0</td>\n",
       "      <td>0</td>\n",
       "      <td>0</td>\n",
       "      <td>0</td>\n",
       "      <td>0.208333</td>\n",
       "      <td>0</td>\n",
       "      <td>1</td>\n",
       "      <td>0</td>\n",
       "      <td>1</td>\n",
       "      <td>0</td>\n",
       "      <td>0</td>\n",
       "      <td>0</td>\n",
       "      <td>0</td>\n",
       "    </tr>\n",
       "    <tr>\n",
       "      <th>384</th>\n",
       "      <td>13293000</td>\n",
       "      <td>55.790968</td>\n",
       "      <td>37.475395</td>\n",
       "      <td>3</td>\n",
       "      <td>2</td>\n",
       "      <td>3</td>\n",
       "      <td>14</td>\n",
       "      <td>2</td>\n",
       "      <td>64.4</td>\n",
       "      <td>14.0</td>\n",
       "      <td>0</td>\n",
       "      <td>1</td>\n",
       "      <td>0</td>\n",
       "      <td>0</td>\n",
       "      <td>0</td>\n",
       "      <td>0</td>\n",
       "      <td>0.214286</td>\n",
       "      <td>0</td>\n",
       "      <td>1</td>\n",
       "      <td>0</td>\n",
       "      <td>0</td>\n",
       "      <td>1</td>\n",
       "      <td>0</td>\n",
       "      <td>0</td>\n",
       "      <td>0</td>\n",
       "    </tr>\n",
       "    <tr>\n",
       "      <th>1536</th>\n",
       "      <td>10600000</td>\n",
       "      <td>55.813353</td>\n",
       "      <td>37.632791</td>\n",
       "      <td>3</td>\n",
       "      <td>3</td>\n",
       "      <td>2</td>\n",
       "      <td>8</td>\n",
       "      <td>2</td>\n",
       "      <td>67.0</td>\n",
       "      <td>8.0</td>\n",
       "      <td>0</td>\n",
       "      <td>1</td>\n",
       "      <td>0</td>\n",
       "      <td>0</td>\n",
       "      <td>0</td>\n",
       "      <td>0</td>\n",
       "      <td>0.250000</td>\n",
       "      <td>1</td>\n",
       "      <td>0</td>\n",
       "      <td>0</td>\n",
       "      <td>0</td>\n",
       "      <td>0</td>\n",
       "      <td>1</td>\n",
       "      <td>0</td>\n",
       "      <td>0</td>\n",
       "    </tr>\n",
       "    <tr>\n",
       "      <th>1938</th>\n",
       "      <td>14250000</td>\n",
       "      <td>55.806940</td>\n",
       "      <td>37.646392</td>\n",
       "      <td>3</td>\n",
       "      <td>2</td>\n",
       "      <td>6</td>\n",
       "      <td>12</td>\n",
       "      <td>2</td>\n",
       "      <td>69.0</td>\n",
       "      <td>13.0</td>\n",
       "      <td>0</td>\n",
       "      <td>0</td>\n",
       "      <td>1</td>\n",
       "      <td>0</td>\n",
       "      <td>0</td>\n",
       "      <td>0</td>\n",
       "      <td>0.500000</td>\n",
       "      <td>0</td>\n",
       "      <td>1</td>\n",
       "      <td>0</td>\n",
       "      <td>0</td>\n",
       "      <td>1</td>\n",
       "      <td>0</td>\n",
       "      <td>0</td>\n",
       "      <td>0</td>\n",
       "    </tr>\n",
       "    <tr>\n",
       "      <th>1942</th>\n",
       "      <td>11990000</td>\n",
       "      <td>55.808834</td>\n",
       "      <td>37.649427</td>\n",
       "      <td>3</td>\n",
       "      <td>2</td>\n",
       "      <td>3</td>\n",
       "      <td>9</td>\n",
       "      <td>2</td>\n",
       "      <td>60.0</td>\n",
       "      <td>13.0</td>\n",
       "      <td>0</td>\n",
       "      <td>1</td>\n",
       "      <td>0</td>\n",
       "      <td>0</td>\n",
       "      <td>0</td>\n",
       "      <td>0</td>\n",
       "      <td>0.333333</td>\n",
       "      <td>0</td>\n",
       "      <td>1</td>\n",
       "      <td>0</td>\n",
       "      <td>0</td>\n",
       "      <td>1</td>\n",
       "      <td>0</td>\n",
       "      <td>0</td>\n",
       "      <td>0</td>\n",
       "    </tr>\n",
       "    <tr>\n",
       "      <th>2039</th>\n",
       "      <td>7300000</td>\n",
       "      <td>55.880666</td>\n",
       "      <td>37.686428</td>\n",
       "      <td>3</td>\n",
       "      <td>3</td>\n",
       "      <td>1</td>\n",
       "      <td>9</td>\n",
       "      <td>2</td>\n",
       "      <td>50.0</td>\n",
       "      <td>7.0</td>\n",
       "      <td>1</td>\n",
       "      <td>0</td>\n",
       "      <td>0</td>\n",
       "      <td>0</td>\n",
       "      <td>0</td>\n",
       "      <td>0</td>\n",
       "      <td>0.111111</td>\n",
       "      <td>1</td>\n",
       "      <td>0</td>\n",
       "      <td>0</td>\n",
       "      <td>0</td>\n",
       "      <td>0</td>\n",
       "      <td>1</td>\n",
       "      <td>0</td>\n",
       "      <td>0</td>\n",
       "    </tr>\n",
       "    <tr>\n",
       "      <th>2108</th>\n",
       "      <td>15990000</td>\n",
       "      <td>55.795249</td>\n",
       "      <td>37.525945</td>\n",
       "      <td>3</td>\n",
       "      <td>2</td>\n",
       "      <td>8</td>\n",
       "      <td>15</td>\n",
       "      <td>2</td>\n",
       "      <td>54.4</td>\n",
       "      <td>6.0</td>\n",
       "      <td>0</td>\n",
       "      <td>0</td>\n",
       "      <td>1</td>\n",
       "      <td>0</td>\n",
       "      <td>0</td>\n",
       "      <td>0</td>\n",
       "      <td>0.533333</td>\n",
       "      <td>0</td>\n",
       "      <td>1</td>\n",
       "      <td>0</td>\n",
       "      <td>0</td>\n",
       "      <td>1</td>\n",
       "      <td>0</td>\n",
       "      <td>0</td>\n",
       "      <td>0</td>\n",
       "    </tr>\n",
       "    <tr>\n",
       "      <th>2109</th>\n",
       "      <td>19000000</td>\n",
       "      <td>55.795249</td>\n",
       "      <td>37.525945</td>\n",
       "      <td>3</td>\n",
       "      <td>2</td>\n",
       "      <td>3</td>\n",
       "      <td>15</td>\n",
       "      <td>2</td>\n",
       "      <td>74.2</td>\n",
       "      <td>13.5</td>\n",
       "      <td>0</td>\n",
       "      <td>1</td>\n",
       "      <td>0</td>\n",
       "      <td>0</td>\n",
       "      <td>0</td>\n",
       "      <td>0</td>\n",
       "      <td>0.200000</td>\n",
       "      <td>0</td>\n",
       "      <td>1</td>\n",
       "      <td>0</td>\n",
       "      <td>0</td>\n",
       "      <td>1</td>\n",
       "      <td>0</td>\n",
       "      <td>0</td>\n",
       "      <td>0</td>\n",
       "    </tr>\n",
       "    <tr>\n",
       "      <th>2112</th>\n",
       "      <td>15200000</td>\n",
       "      <td>55.809934</td>\n",
       "      <td>37.727885</td>\n",
       "      <td>3</td>\n",
       "      <td>2</td>\n",
       "      <td>20</td>\n",
       "      <td>30</td>\n",
       "      <td>2</td>\n",
       "      <td>64.0</td>\n",
       "      <td>12.0</td>\n",
       "      <td>0</td>\n",
       "      <td>0</td>\n",
       "      <td>0</td>\n",
       "      <td>0</td>\n",
       "      <td>0</td>\n",
       "      <td>1</td>\n",
       "      <td>0.666667</td>\n",
       "      <td>1</td>\n",
       "      <td>0</td>\n",
       "      <td>0</td>\n",
       "      <td>0</td>\n",
       "      <td>1</td>\n",
       "      <td>0</td>\n",
       "      <td>0</td>\n",
       "      <td>0</td>\n",
       "    </tr>\n",
       "    <tr>\n",
       "      <th>2298</th>\n",
       "      <td>8150000</td>\n",
       "      <td>55.815681</td>\n",
       "      <td>37.491817</td>\n",
       "      <td>3</td>\n",
       "      <td>3</td>\n",
       "      <td>3</td>\n",
       "      <td>3</td>\n",
       "      <td>2</td>\n",
       "      <td>49.0</td>\n",
       "      <td>8.0</td>\n",
       "      <td>0</td>\n",
       "      <td>1</td>\n",
       "      <td>0</td>\n",
       "      <td>0</td>\n",
       "      <td>0</td>\n",
       "      <td>0</td>\n",
       "      <td>1.000000</td>\n",
       "      <td>1</td>\n",
       "      <td>0</td>\n",
       "      <td>0</td>\n",
       "      <td>0</td>\n",
       "      <td>0</td>\n",
       "      <td>1</td>\n",
       "      <td>0</td>\n",
       "      <td>0</td>\n",
       "    </tr>\n",
       "  </tbody>\n",
       "</table>\n",
       "</div>"
      ],
      "text/plain": [
       "         price    geo_lat    geo_lon  region  building_type  level  levels  \\\n",
       "150    8806100  55.872870  37.593110       3              1      5      24   \n",
       "384   13293000  55.790968  37.475395       3              2      3      14   \n",
       "1536  10600000  55.813353  37.632791       3              3      2       8   \n",
       "1938  14250000  55.806940  37.646392       3              2      6      12   \n",
       "1942  11990000  55.808834  37.649427       3              2      3       9   \n",
       "2039   7300000  55.880666  37.686428       3              3      1       9   \n",
       "2108  15990000  55.795249  37.525945       3              2      8      15   \n",
       "2109  19000000  55.795249  37.525945       3              2      3      15   \n",
       "2112  15200000  55.809934  37.727885       3              2     20      30   \n",
       "2298   8150000  55.815681  37.491817       3              3      3       3   \n",
       "\n",
       "      rooms  area  kitchen_area  first floor  2 <= x <= 5  6 <= x <= 9  \\\n",
       "150       2  53.5          18.5            0            1            0   \n",
       "384       2  64.4          14.0            0            1            0   \n",
       "1536      2  67.0           8.0            0            1            0   \n",
       "1938      2  69.0          13.0            0            0            1   \n",
       "1942      2  60.0          13.0            0            1            0   \n",
       "2039      2  50.0           7.0            1            0            0   \n",
       "2108      2  54.4           6.0            0            0            1   \n",
       "2109      2  74.2          13.5            0            1            0   \n",
       "2112      2  64.0          12.0            0            0            0   \n",
       "2298      2  49.0           8.0            0            1            0   \n",
       "\n",
       "      10 <= x <= 12  13 <= x <= 17  18 <= x  level_prop  new  old  Other  \\\n",
       "150               0              0        0    0.208333    0    1      0   \n",
       "384               0              0        0    0.214286    0    1      0   \n",
       "1536              0              0        0    0.250000    1    0      0   \n",
       "1938              0              0        0    0.500000    0    1      0   \n",
       "1942              0              0        0    0.333333    0    1      0   \n",
       "2039              0              0        0    0.111111    1    0      0   \n",
       "2108              0              0        0    0.533333    0    1      0   \n",
       "2109              0              0        0    0.200000    0    1      0   \n",
       "2112              0              0        1    0.666667    1    0      0   \n",
       "2298              0              0        0    1.000000    1    0      0   \n",
       "\n",
       "      Panel  Monolithic  Brick  Blocky  Wooden  \n",
       "150       1           0      0       0       0  \n",
       "384       0           1      0       0       0  \n",
       "1536      0           0      1       0       0  \n",
       "1938      0           1      0       0       0  \n",
       "1942      0           1      0       0       0  \n",
       "2039      0           0      1       0       0  \n",
       "2108      0           1      0       0       0  \n",
       "2109      0           1      0       0       0  \n",
       "2112      0           1      0       0       0  \n",
       "2298      0           0      1       0       0  "
      ]
     },
     "execution_count": 179,
     "metadata": {},
     "output_type": "execute_result"
    }
   ],
   "source": [
    "df['Other'] = 0\n",
    "df['Panel'] = 0\n",
    "df['Monolithic'] = 0\n",
    "df['Brick'] = 0\n",
    "df['Blocky'] = 0\n",
    "df['Wooden'] = 0\n",
    "df['Other'] = np.where((df.building_type == 0), 1, df['Other'])\n",
    "df['Panel'] = np.where((df.building_type == 1), 1, df['Panel'])\n",
    "df['Brick'] = np.where((df.building_type == 3), 1, df['Brick'])\n",
    "df['Blocky'] = np.where((df.building_type == 4), 1, df['Blocky'])\n",
    "df['Wooden'] = np.where((df.building_type == 5), 1, df['Wooden'])\n",
    "df['Monolithic'] = np.where((df.building_type == 2), 1, df['Monolithic'])\n",
    "df.head(10)"
   ]
  },
  {
   "cell_type": "code",
   "execution_count": null,
   "id": "d884925a",
   "metadata": {
    "pycharm": {
     "name": "#%%\n"
    }
   },
   "outputs": [],
   "source": []
  }
 ],
 "metadata": {
  "kernelspec": {
   "display_name": "Python 3 (ipykernel)",
   "language": "python",
   "name": "python3"
  },
  "language_info": {
   "codemirror_mode": {
    "name": "ipython",
    "version": 3
   },
   "file_extension": ".py",
   "mimetype": "text/x-python",
   "name": "python",
   "nbconvert_exporter": "python",
   "pygments_lexer": "ipython3",
   "version": "3.9.10"
  }
 },
 "nbformat": 4,
 "nbformat_minor": 5
}